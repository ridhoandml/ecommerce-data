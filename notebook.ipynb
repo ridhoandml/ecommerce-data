{
 "cells": [
  {
   "cell_type": "markdown",
   "metadata": {},
   "source": [
    "# Proyek Analisis Data: E-Commerce Public Dataset\n",
    "- **Nama:** Ridho Anandamal\n",
    "- **Email:** a.ridho00@gmail.com\n",
    "- **ID Dicoding:** ridho_anandamal"
   ]
  },
  {
   "cell_type": "markdown",
   "metadata": {},
   "source": [
    "## Menentukan Pertanyaan Bisnis\n",
    "\n",
    "1. Dalam 5 tahun terakhir, Apa saja kategori produk yang memberikan penghasilan terbanyak?\n",
    "2. Kota mana aja yang memiliki pesanan terbanyak dan jumlah pengguna terbanyak?\n",
    "\n",
    "Berdasarkan pertanyaan diatas dibutuhkan dataset:\n",
    "- customers_dataset.csv\n",
    "- order_items_dataset.csv\n",
    "- order_payments_dataset.csv\n",
    "- orders_dataset.csv\n",
    "- product_category_name_translation.csv\n",
    "- products_dataset.csv\n",
    "\n",
    "Untuk menjawab pertanyaan diatas harus menghubungkan dataset-dataset tersebut. Dibawah ini adalah diagram menghubungkan antar dataset.\n",
    "\n",
    "![Diagram](diagram_data_need.jpg)"
   ]
  },
  {
   "cell_type": "markdown",
   "metadata": {},
   "source": [
    "# Import Semua Packages/Library yang Digunakan\n",
    "\n",
    "Di sini tempat menginisialisasi semua package"
   ]
  },
  {
   "cell_type": "code",
   "execution_count": 711,
   "metadata": {},
   "outputs": [],
   "source": [
    "import numpy as np\n",
    "import pandas as pd\n",
    "import matplotlib.pyplot as plt\n",
    "import seaborn as sns"
   ]
  },
  {
   "cell_type": "markdown",
   "metadata": {},
   "source": [
    "# Data Wrangling\n",
    "\n",
    "Proses untuk mendapatkan data-data dan membersihkan sebelum dapat digunakan."
   ]
  },
  {
   "cell_type": "markdown",
   "metadata": {},
   "source": [
    "## Gathering Data\n",
    "\n",
    "Proses mengambil data-data"
   ]
  },
  {
   "cell_type": "markdown",
   "metadata": {},
   "source": [
    "### Data Orders"
   ]
  },
  {
   "cell_type": "code",
   "execution_count": 712,
   "metadata": {},
   "outputs": [
    {
     "data": {
      "text/html": [
       "<div>\n",
       "<style scoped>\n",
       "    .dataframe tbody tr th:only-of-type {\n",
       "        vertical-align: middle;\n",
       "    }\n",
       "\n",
       "    .dataframe tbody tr th {\n",
       "        vertical-align: top;\n",
       "    }\n",
       "\n",
       "    .dataframe thead th {\n",
       "        text-align: right;\n",
       "    }\n",
       "</style>\n",
       "<table border=\"1\" class=\"dataframe\">\n",
       "  <thead>\n",
       "    <tr style=\"text-align: right;\">\n",
       "      <th></th>\n",
       "      <th>order_id</th>\n",
       "      <th>customer_id</th>\n",
       "      <th>order_status</th>\n",
       "      <th>order_purchase_timestamp</th>\n",
       "      <th>order_approved_at</th>\n",
       "      <th>order_delivered_carrier_date</th>\n",
       "      <th>order_delivered_customer_date</th>\n",
       "      <th>order_estimated_delivery_date</th>\n",
       "    </tr>\n",
       "  </thead>\n",
       "  <tbody>\n",
       "    <tr>\n",
       "      <th>0</th>\n",
       "      <td>e481f51cbdc54678b7cc49136f2d6af7</td>\n",
       "      <td>9ef432eb6251297304e76186b10a928d</td>\n",
       "      <td>delivered</td>\n",
       "      <td>2017-10-02 10:56:33</td>\n",
       "      <td>2017-10-02 11:07:15</td>\n",
       "      <td>2017-10-04 19:55:00</td>\n",
       "      <td>2017-10-10 21:25:13</td>\n",
       "      <td>2017-10-18 00:00:00</td>\n",
       "    </tr>\n",
       "    <tr>\n",
       "      <th>1</th>\n",
       "      <td>53cdb2fc8bc7dce0b6741e2150273451</td>\n",
       "      <td>b0830fb4747a6c6d20dea0b8c802d7ef</td>\n",
       "      <td>delivered</td>\n",
       "      <td>2018-07-24 20:41:37</td>\n",
       "      <td>2018-07-26 03:24:27</td>\n",
       "      <td>2018-07-26 14:31:00</td>\n",
       "      <td>2018-08-07 15:27:45</td>\n",
       "      <td>2018-08-13 00:00:00</td>\n",
       "    </tr>\n",
       "    <tr>\n",
       "      <th>2</th>\n",
       "      <td>47770eb9100c2d0c44946d9cf07ec65d</td>\n",
       "      <td>41ce2a54c0b03bf3443c3d931a367089</td>\n",
       "      <td>delivered</td>\n",
       "      <td>2018-08-08 08:38:49</td>\n",
       "      <td>2018-08-08 08:55:23</td>\n",
       "      <td>2018-08-08 13:50:00</td>\n",
       "      <td>2018-08-17 18:06:29</td>\n",
       "      <td>2018-09-04 00:00:00</td>\n",
       "    </tr>\n",
       "    <tr>\n",
       "      <th>3</th>\n",
       "      <td>949d5b44dbf5de918fe9c16f97b45f8a</td>\n",
       "      <td>f88197465ea7920adcdbec7375364d82</td>\n",
       "      <td>delivered</td>\n",
       "      <td>2017-11-18 19:28:06</td>\n",
       "      <td>2017-11-18 19:45:59</td>\n",
       "      <td>2017-11-22 13:39:59</td>\n",
       "      <td>2017-12-02 00:28:42</td>\n",
       "      <td>2017-12-15 00:00:00</td>\n",
       "    </tr>\n",
       "    <tr>\n",
       "      <th>4</th>\n",
       "      <td>ad21c59c0840e6cb83a9ceb5573f8159</td>\n",
       "      <td>8ab97904e6daea8866dbdbc4fb7aad2c</td>\n",
       "      <td>delivered</td>\n",
       "      <td>2018-02-13 21:18:39</td>\n",
       "      <td>2018-02-13 22:20:29</td>\n",
       "      <td>2018-02-14 19:46:34</td>\n",
       "      <td>2018-02-16 18:17:02</td>\n",
       "      <td>2018-02-26 00:00:00</td>\n",
       "    </tr>\n",
       "  </tbody>\n",
       "</table>\n",
       "</div>"
      ],
      "text/plain": [
       "                           order_id                       customer_id  \\\n",
       "0  e481f51cbdc54678b7cc49136f2d6af7  9ef432eb6251297304e76186b10a928d   \n",
       "1  53cdb2fc8bc7dce0b6741e2150273451  b0830fb4747a6c6d20dea0b8c802d7ef   \n",
       "2  47770eb9100c2d0c44946d9cf07ec65d  41ce2a54c0b03bf3443c3d931a367089   \n",
       "3  949d5b44dbf5de918fe9c16f97b45f8a  f88197465ea7920adcdbec7375364d82   \n",
       "4  ad21c59c0840e6cb83a9ceb5573f8159  8ab97904e6daea8866dbdbc4fb7aad2c   \n",
       "\n",
       "  order_status order_purchase_timestamp    order_approved_at  \\\n",
       "0    delivered      2017-10-02 10:56:33  2017-10-02 11:07:15   \n",
       "1    delivered      2018-07-24 20:41:37  2018-07-26 03:24:27   \n",
       "2    delivered      2018-08-08 08:38:49  2018-08-08 08:55:23   \n",
       "3    delivered      2017-11-18 19:28:06  2017-11-18 19:45:59   \n",
       "4    delivered      2018-02-13 21:18:39  2018-02-13 22:20:29   \n",
       "\n",
       "  order_delivered_carrier_date order_delivered_customer_date  \\\n",
       "0          2017-10-04 19:55:00           2017-10-10 21:25:13   \n",
       "1          2018-07-26 14:31:00           2018-08-07 15:27:45   \n",
       "2          2018-08-08 13:50:00           2018-08-17 18:06:29   \n",
       "3          2017-11-22 13:39:59           2017-12-02 00:28:42   \n",
       "4          2018-02-14 19:46:34           2018-02-16 18:17:02   \n",
       "\n",
       "  order_estimated_delivery_date  \n",
       "0           2017-10-18 00:00:00  \n",
       "1           2018-08-13 00:00:00  \n",
       "2           2018-09-04 00:00:00  \n",
       "3           2017-12-15 00:00:00  \n",
       "4           2018-02-26 00:00:00  "
      ]
     },
     "execution_count": 712,
     "metadata": {},
     "output_type": "execute_result"
    }
   ],
   "source": [
    "orders = pd.read_csv(\"./dataset/orders_dataset.csv\")\n",
    "orders.head()"
   ]
  },
  {
   "cell_type": "markdown",
   "metadata": {},
   "source": [
    "### Data Order Payments"
   ]
  },
  {
   "cell_type": "code",
   "execution_count": 713,
   "metadata": {},
   "outputs": [
    {
     "data": {
      "text/html": [
       "<div>\n",
       "<style scoped>\n",
       "    .dataframe tbody tr th:only-of-type {\n",
       "        vertical-align: middle;\n",
       "    }\n",
       "\n",
       "    .dataframe tbody tr th {\n",
       "        vertical-align: top;\n",
       "    }\n",
       "\n",
       "    .dataframe thead th {\n",
       "        text-align: right;\n",
       "    }\n",
       "</style>\n",
       "<table border=\"1\" class=\"dataframe\">\n",
       "  <thead>\n",
       "    <tr style=\"text-align: right;\">\n",
       "      <th></th>\n",
       "      <th>order_id</th>\n",
       "      <th>payment_sequential</th>\n",
       "      <th>payment_type</th>\n",
       "      <th>payment_installments</th>\n",
       "      <th>payment_value</th>\n",
       "    </tr>\n",
       "  </thead>\n",
       "  <tbody>\n",
       "    <tr>\n",
       "      <th>0</th>\n",
       "      <td>b81ef226f3fe1789b1e8b2acac839d17</td>\n",
       "      <td>1</td>\n",
       "      <td>credit_card</td>\n",
       "      <td>8</td>\n",
       "      <td>99.33</td>\n",
       "    </tr>\n",
       "    <tr>\n",
       "      <th>1</th>\n",
       "      <td>a9810da82917af2d9aefd1278f1dcfa0</td>\n",
       "      <td>1</td>\n",
       "      <td>credit_card</td>\n",
       "      <td>1</td>\n",
       "      <td>24.39</td>\n",
       "    </tr>\n",
       "    <tr>\n",
       "      <th>2</th>\n",
       "      <td>25e8ea4e93396b6fa0d3dd708e76c1bd</td>\n",
       "      <td>1</td>\n",
       "      <td>credit_card</td>\n",
       "      <td>1</td>\n",
       "      <td>65.71</td>\n",
       "    </tr>\n",
       "    <tr>\n",
       "      <th>3</th>\n",
       "      <td>ba78997921bbcdc1373bb41e913ab953</td>\n",
       "      <td>1</td>\n",
       "      <td>credit_card</td>\n",
       "      <td>8</td>\n",
       "      <td>107.78</td>\n",
       "    </tr>\n",
       "    <tr>\n",
       "      <th>4</th>\n",
       "      <td>42fdf880ba16b47b59251dd489d4441a</td>\n",
       "      <td>1</td>\n",
       "      <td>credit_card</td>\n",
       "      <td>2</td>\n",
       "      <td>128.45</td>\n",
       "    </tr>\n",
       "  </tbody>\n",
       "</table>\n",
       "</div>"
      ],
      "text/plain": [
       "                           order_id  payment_sequential payment_type  \\\n",
       "0  b81ef226f3fe1789b1e8b2acac839d17                   1  credit_card   \n",
       "1  a9810da82917af2d9aefd1278f1dcfa0                   1  credit_card   \n",
       "2  25e8ea4e93396b6fa0d3dd708e76c1bd                   1  credit_card   \n",
       "3  ba78997921bbcdc1373bb41e913ab953                   1  credit_card   \n",
       "4  42fdf880ba16b47b59251dd489d4441a                   1  credit_card   \n",
       "\n",
       "   payment_installments  payment_value  \n",
       "0                     8          99.33  \n",
       "1                     1          24.39  \n",
       "2                     1          65.71  \n",
       "3                     8         107.78  \n",
       "4                     2         128.45  "
      ]
     },
     "execution_count": 713,
     "metadata": {},
     "output_type": "execute_result"
    }
   ],
   "source": [
    "order_payments = pd.read_csv(\"./dataset/order_payments_dataset.csv\")\n",
    "order_payments.head()"
   ]
  },
  {
   "cell_type": "markdown",
   "metadata": {},
   "source": [
    "### Data Order Items"
   ]
  },
  {
   "cell_type": "code",
   "execution_count": 714,
   "metadata": {},
   "outputs": [
    {
     "data": {
      "text/html": [
       "<div>\n",
       "<style scoped>\n",
       "    .dataframe tbody tr th:only-of-type {\n",
       "        vertical-align: middle;\n",
       "    }\n",
       "\n",
       "    .dataframe tbody tr th {\n",
       "        vertical-align: top;\n",
       "    }\n",
       "\n",
       "    .dataframe thead th {\n",
       "        text-align: right;\n",
       "    }\n",
       "</style>\n",
       "<table border=\"1\" class=\"dataframe\">\n",
       "  <thead>\n",
       "    <tr style=\"text-align: right;\">\n",
       "      <th></th>\n",
       "      <th>order_id</th>\n",
       "      <th>order_item_id</th>\n",
       "      <th>product_id</th>\n",
       "      <th>seller_id</th>\n",
       "      <th>shipping_limit_date</th>\n",
       "      <th>price</th>\n",
       "      <th>freight_value</th>\n",
       "    </tr>\n",
       "  </thead>\n",
       "  <tbody>\n",
       "    <tr>\n",
       "      <th>0</th>\n",
       "      <td>00010242fe8c5a6d1ba2dd792cb16214</td>\n",
       "      <td>1</td>\n",
       "      <td>4244733e06e7ecb4970a6e2683c13e61</td>\n",
       "      <td>48436dade18ac8b2bce089ec2a041202</td>\n",
       "      <td>2017-09-19 09:45:35</td>\n",
       "      <td>58.90</td>\n",
       "      <td>13.29</td>\n",
       "    </tr>\n",
       "    <tr>\n",
       "      <th>1</th>\n",
       "      <td>00018f77f2f0320c557190d7a144bdd3</td>\n",
       "      <td>1</td>\n",
       "      <td>e5f2d52b802189ee658865ca93d83a8f</td>\n",
       "      <td>dd7ddc04e1b6c2c614352b383efe2d36</td>\n",
       "      <td>2017-05-03 11:05:13</td>\n",
       "      <td>239.90</td>\n",
       "      <td>19.93</td>\n",
       "    </tr>\n",
       "    <tr>\n",
       "      <th>2</th>\n",
       "      <td>000229ec398224ef6ca0657da4fc703e</td>\n",
       "      <td>1</td>\n",
       "      <td>c777355d18b72b67abbeef9df44fd0fd</td>\n",
       "      <td>5b51032eddd242adc84c38acab88f23d</td>\n",
       "      <td>2018-01-18 14:48:30</td>\n",
       "      <td>199.00</td>\n",
       "      <td>17.87</td>\n",
       "    </tr>\n",
       "    <tr>\n",
       "      <th>3</th>\n",
       "      <td>00024acbcdf0a6daa1e931b038114c75</td>\n",
       "      <td>1</td>\n",
       "      <td>7634da152a4610f1595efa32f14722fc</td>\n",
       "      <td>9d7a1d34a5052409006425275ba1c2b4</td>\n",
       "      <td>2018-08-15 10:10:18</td>\n",
       "      <td>12.99</td>\n",
       "      <td>12.79</td>\n",
       "    </tr>\n",
       "    <tr>\n",
       "      <th>4</th>\n",
       "      <td>00042b26cf59d7ce69dfabb4e55b4fd9</td>\n",
       "      <td>1</td>\n",
       "      <td>ac6c3623068f30de03045865e4e10089</td>\n",
       "      <td>df560393f3a51e74553ab94004ba5c87</td>\n",
       "      <td>2017-02-13 13:57:51</td>\n",
       "      <td>199.90</td>\n",
       "      <td>18.14</td>\n",
       "    </tr>\n",
       "  </tbody>\n",
       "</table>\n",
       "</div>"
      ],
      "text/plain": [
       "                           order_id  order_item_id  \\\n",
       "0  00010242fe8c5a6d1ba2dd792cb16214              1   \n",
       "1  00018f77f2f0320c557190d7a144bdd3              1   \n",
       "2  000229ec398224ef6ca0657da4fc703e              1   \n",
       "3  00024acbcdf0a6daa1e931b038114c75              1   \n",
       "4  00042b26cf59d7ce69dfabb4e55b4fd9              1   \n",
       "\n",
       "                         product_id                         seller_id  \\\n",
       "0  4244733e06e7ecb4970a6e2683c13e61  48436dade18ac8b2bce089ec2a041202   \n",
       "1  e5f2d52b802189ee658865ca93d83a8f  dd7ddc04e1b6c2c614352b383efe2d36   \n",
       "2  c777355d18b72b67abbeef9df44fd0fd  5b51032eddd242adc84c38acab88f23d   \n",
       "3  7634da152a4610f1595efa32f14722fc  9d7a1d34a5052409006425275ba1c2b4   \n",
       "4  ac6c3623068f30de03045865e4e10089  df560393f3a51e74553ab94004ba5c87   \n",
       "\n",
       "   shipping_limit_date   price  freight_value  \n",
       "0  2017-09-19 09:45:35   58.90          13.29  \n",
       "1  2017-05-03 11:05:13  239.90          19.93  \n",
       "2  2018-01-18 14:48:30  199.00          17.87  \n",
       "3  2018-08-15 10:10:18   12.99          12.79  \n",
       "4  2017-02-13 13:57:51  199.90          18.14  "
      ]
     },
     "execution_count": 714,
     "metadata": {},
     "output_type": "execute_result"
    }
   ],
   "source": [
    "order_items = pd.read_csv(\"./dataset/order_items_dataset.csv\")\n",
    "order_items.head()"
   ]
  },
  {
   "cell_type": "markdown",
   "metadata": {},
   "source": [
    "### Data Customers"
   ]
  },
  {
   "cell_type": "code",
   "execution_count": 715,
   "metadata": {},
   "outputs": [
    {
     "data": {
      "text/html": [
       "<div>\n",
       "<style scoped>\n",
       "    .dataframe tbody tr th:only-of-type {\n",
       "        vertical-align: middle;\n",
       "    }\n",
       "\n",
       "    .dataframe tbody tr th {\n",
       "        vertical-align: top;\n",
       "    }\n",
       "\n",
       "    .dataframe thead th {\n",
       "        text-align: right;\n",
       "    }\n",
       "</style>\n",
       "<table border=\"1\" class=\"dataframe\">\n",
       "  <thead>\n",
       "    <tr style=\"text-align: right;\">\n",
       "      <th></th>\n",
       "      <th>customer_id</th>\n",
       "      <th>customer_unique_id</th>\n",
       "      <th>customer_zip_code_prefix</th>\n",
       "      <th>customer_city</th>\n",
       "      <th>customer_state</th>\n",
       "    </tr>\n",
       "  </thead>\n",
       "  <tbody>\n",
       "    <tr>\n",
       "      <th>0</th>\n",
       "      <td>06b8999e2fba1a1fbc88172c00ba8bc7</td>\n",
       "      <td>861eff4711a542e4b93843c6dd7febb0</td>\n",
       "      <td>14409</td>\n",
       "      <td>franca</td>\n",
       "      <td>SP</td>\n",
       "    </tr>\n",
       "    <tr>\n",
       "      <th>1</th>\n",
       "      <td>18955e83d337fd6b2def6b18a428ac77</td>\n",
       "      <td>290c77bc529b7ac935b93aa66c333dc3</td>\n",
       "      <td>9790</td>\n",
       "      <td>sao bernardo do campo</td>\n",
       "      <td>SP</td>\n",
       "    </tr>\n",
       "    <tr>\n",
       "      <th>2</th>\n",
       "      <td>4e7b3e00288586ebd08712fdd0374a03</td>\n",
       "      <td>060e732b5b29e8181a18229c7b0b2b5e</td>\n",
       "      <td>1151</td>\n",
       "      <td>sao paulo</td>\n",
       "      <td>SP</td>\n",
       "    </tr>\n",
       "    <tr>\n",
       "      <th>3</th>\n",
       "      <td>b2b6027bc5c5109e529d4dc6358b12c3</td>\n",
       "      <td>259dac757896d24d7702b9acbbff3f3c</td>\n",
       "      <td>8775</td>\n",
       "      <td>mogi das cruzes</td>\n",
       "      <td>SP</td>\n",
       "    </tr>\n",
       "    <tr>\n",
       "      <th>4</th>\n",
       "      <td>4f2d8ab171c80ec8364f7c12e35b23ad</td>\n",
       "      <td>345ecd01c38d18a9036ed96c73b8d066</td>\n",
       "      <td>13056</td>\n",
       "      <td>campinas</td>\n",
       "      <td>SP</td>\n",
       "    </tr>\n",
       "  </tbody>\n",
       "</table>\n",
       "</div>"
      ],
      "text/plain": [
       "                        customer_id                customer_unique_id  \\\n",
       "0  06b8999e2fba1a1fbc88172c00ba8bc7  861eff4711a542e4b93843c6dd7febb0   \n",
       "1  18955e83d337fd6b2def6b18a428ac77  290c77bc529b7ac935b93aa66c333dc3   \n",
       "2  4e7b3e00288586ebd08712fdd0374a03  060e732b5b29e8181a18229c7b0b2b5e   \n",
       "3  b2b6027bc5c5109e529d4dc6358b12c3  259dac757896d24d7702b9acbbff3f3c   \n",
       "4  4f2d8ab171c80ec8364f7c12e35b23ad  345ecd01c38d18a9036ed96c73b8d066   \n",
       "\n",
       "   customer_zip_code_prefix          customer_city customer_state  \n",
       "0                     14409                 franca             SP  \n",
       "1                      9790  sao bernardo do campo             SP  \n",
       "2                      1151              sao paulo             SP  \n",
       "3                      8775        mogi das cruzes             SP  \n",
       "4                     13056               campinas             SP  "
      ]
     },
     "execution_count": 715,
     "metadata": {},
     "output_type": "execute_result"
    }
   ],
   "source": [
    "customers = pd.read_csv(\"./dataset/customers_dataset.csv\")\n",
    "customers.head()"
   ]
  },
  {
   "cell_type": "markdown",
   "metadata": {},
   "source": [
    "### Data Products"
   ]
  },
  {
   "cell_type": "code",
   "execution_count": 716,
   "metadata": {},
   "outputs": [
    {
     "data": {
      "text/html": [
       "<div>\n",
       "<style scoped>\n",
       "    .dataframe tbody tr th:only-of-type {\n",
       "        vertical-align: middle;\n",
       "    }\n",
       "\n",
       "    .dataframe tbody tr th {\n",
       "        vertical-align: top;\n",
       "    }\n",
       "\n",
       "    .dataframe thead th {\n",
       "        text-align: right;\n",
       "    }\n",
       "</style>\n",
       "<table border=\"1\" class=\"dataframe\">\n",
       "  <thead>\n",
       "    <tr style=\"text-align: right;\">\n",
       "      <th></th>\n",
       "      <th>product_id</th>\n",
       "      <th>product_category_name</th>\n",
       "      <th>product_name_lenght</th>\n",
       "      <th>product_description_lenght</th>\n",
       "      <th>product_photos_qty</th>\n",
       "      <th>product_weight_g</th>\n",
       "      <th>product_length_cm</th>\n",
       "      <th>product_height_cm</th>\n",
       "      <th>product_width_cm</th>\n",
       "    </tr>\n",
       "  </thead>\n",
       "  <tbody>\n",
       "    <tr>\n",
       "      <th>0</th>\n",
       "      <td>1e9e8ef04dbcff4541ed26657ea517e5</td>\n",
       "      <td>perfumaria</td>\n",
       "      <td>40.0</td>\n",
       "      <td>287.0</td>\n",
       "      <td>1.0</td>\n",
       "      <td>225.0</td>\n",
       "      <td>16.0</td>\n",
       "      <td>10.0</td>\n",
       "      <td>14.0</td>\n",
       "    </tr>\n",
       "    <tr>\n",
       "      <th>1</th>\n",
       "      <td>3aa071139cb16b67ca9e5dea641aaa2f</td>\n",
       "      <td>artes</td>\n",
       "      <td>44.0</td>\n",
       "      <td>276.0</td>\n",
       "      <td>1.0</td>\n",
       "      <td>1000.0</td>\n",
       "      <td>30.0</td>\n",
       "      <td>18.0</td>\n",
       "      <td>20.0</td>\n",
       "    </tr>\n",
       "    <tr>\n",
       "      <th>2</th>\n",
       "      <td>96bd76ec8810374ed1b65e291975717f</td>\n",
       "      <td>esporte_lazer</td>\n",
       "      <td>46.0</td>\n",
       "      <td>250.0</td>\n",
       "      <td>1.0</td>\n",
       "      <td>154.0</td>\n",
       "      <td>18.0</td>\n",
       "      <td>9.0</td>\n",
       "      <td>15.0</td>\n",
       "    </tr>\n",
       "    <tr>\n",
       "      <th>3</th>\n",
       "      <td>cef67bcfe19066a932b7673e239eb23d</td>\n",
       "      <td>bebes</td>\n",
       "      <td>27.0</td>\n",
       "      <td>261.0</td>\n",
       "      <td>1.0</td>\n",
       "      <td>371.0</td>\n",
       "      <td>26.0</td>\n",
       "      <td>4.0</td>\n",
       "      <td>26.0</td>\n",
       "    </tr>\n",
       "    <tr>\n",
       "      <th>4</th>\n",
       "      <td>9dc1a7de274444849c219cff195d0b71</td>\n",
       "      <td>utilidades_domesticas</td>\n",
       "      <td>37.0</td>\n",
       "      <td>402.0</td>\n",
       "      <td>4.0</td>\n",
       "      <td>625.0</td>\n",
       "      <td>20.0</td>\n",
       "      <td>17.0</td>\n",
       "      <td>13.0</td>\n",
       "    </tr>\n",
       "  </tbody>\n",
       "</table>\n",
       "</div>"
      ],
      "text/plain": [
       "                         product_id  product_category_name  \\\n",
       "0  1e9e8ef04dbcff4541ed26657ea517e5             perfumaria   \n",
       "1  3aa071139cb16b67ca9e5dea641aaa2f                  artes   \n",
       "2  96bd76ec8810374ed1b65e291975717f          esporte_lazer   \n",
       "3  cef67bcfe19066a932b7673e239eb23d                  bebes   \n",
       "4  9dc1a7de274444849c219cff195d0b71  utilidades_domesticas   \n",
       "\n",
       "   product_name_lenght  product_description_lenght  product_photos_qty  \\\n",
       "0                 40.0                       287.0                 1.0   \n",
       "1                 44.0                       276.0                 1.0   \n",
       "2                 46.0                       250.0                 1.0   \n",
       "3                 27.0                       261.0                 1.0   \n",
       "4                 37.0                       402.0                 4.0   \n",
       "\n",
       "   product_weight_g  product_length_cm  product_height_cm  product_width_cm  \n",
       "0             225.0               16.0               10.0              14.0  \n",
       "1            1000.0               30.0               18.0              20.0  \n",
       "2             154.0               18.0                9.0              15.0  \n",
       "3             371.0               26.0                4.0              26.0  \n",
       "4             625.0               20.0               17.0              13.0  "
      ]
     },
     "execution_count": 716,
     "metadata": {},
     "output_type": "execute_result"
    }
   ],
   "source": [
    "products = pd.read_csv(\"./dataset/products_dataset.csv\")\n",
    "products.head()"
   ]
  },
  {
   "cell_type": "markdown",
   "metadata": {},
   "source": [
    "### Data Product Category Name (Inggris)"
   ]
  },
  {
   "cell_type": "code",
   "execution_count": 717,
   "metadata": {},
   "outputs": [
    {
     "data": {
      "text/html": [
       "<div>\n",
       "<style scoped>\n",
       "    .dataframe tbody tr th:only-of-type {\n",
       "        vertical-align: middle;\n",
       "    }\n",
       "\n",
       "    .dataframe tbody tr th {\n",
       "        vertical-align: top;\n",
       "    }\n",
       "\n",
       "    .dataframe thead th {\n",
       "        text-align: right;\n",
       "    }\n",
       "</style>\n",
       "<table border=\"1\" class=\"dataframe\">\n",
       "  <thead>\n",
       "    <tr style=\"text-align: right;\">\n",
       "      <th></th>\n",
       "      <th>product_category_name</th>\n",
       "      <th>product_category_name_english</th>\n",
       "    </tr>\n",
       "  </thead>\n",
       "  <tbody>\n",
       "    <tr>\n",
       "      <th>0</th>\n",
       "      <td>beleza_saude</td>\n",
       "      <td>health_beauty</td>\n",
       "    </tr>\n",
       "    <tr>\n",
       "      <th>1</th>\n",
       "      <td>informatica_acessorios</td>\n",
       "      <td>computers_accessories</td>\n",
       "    </tr>\n",
       "    <tr>\n",
       "      <th>2</th>\n",
       "      <td>automotivo</td>\n",
       "      <td>auto</td>\n",
       "    </tr>\n",
       "    <tr>\n",
       "      <th>3</th>\n",
       "      <td>cama_mesa_banho</td>\n",
       "      <td>bed_bath_table</td>\n",
       "    </tr>\n",
       "    <tr>\n",
       "      <th>4</th>\n",
       "      <td>moveis_decoracao</td>\n",
       "      <td>furniture_decor</td>\n",
       "    </tr>\n",
       "  </tbody>\n",
       "</table>\n",
       "</div>"
      ],
      "text/plain": [
       "    product_category_name product_category_name_english\n",
       "0            beleza_saude                 health_beauty\n",
       "1  informatica_acessorios         computers_accessories\n",
       "2              automotivo                          auto\n",
       "3         cama_mesa_banho                bed_bath_table\n",
       "4        moveis_decoracao               furniture_decor"
      ]
     },
     "execution_count": 717,
     "metadata": {},
     "output_type": "execute_result"
    }
   ],
   "source": [
    "product_category_name = pd.read_csv(\"./dataset/product_category_name_translation.csv\")\n",
    "product_category_name.head()"
   ]
  },
  {
   "cell_type": "markdown",
   "metadata": {},
   "source": [
    "### Kesimpulan\n",
    "\n",
    "Berikut kolom-kolom setiap data\n",
    "\n",
    "#### Orders\n",
    "\n",
    "- order_id\n",
    "- customer_id\t\n",
    "- order_status\n",
    "- order_purchase_timestamp\n",
    "- order_approved_at\n",
    "- order_delivered_carrier_date\n",
    "- order_delivered_customer_date\n",
    "- order_estimated_delivery_date\n",
    "\n",
    "#### Order Payments\n",
    "\n",
    "- order_id\n",
    "- payment_sequential\n",
    "- payment_type\n",
    "- payment_installments\n",
    "- payment_value\n",
    "\n",
    "#### Order Items\n",
    "\n",
    "- order_id\n",
    "- order_item_id\n",
    "- product_id\n",
    "- seller_id\n",
    "- shipping_limit_date\n",
    "- price\n",
    "- freight_value\n",
    "\n",
    "#### Customers\n",
    "\n",
    "- customer_id\n",
    "- customer_unique_id\n",
    "- customer_zip_code_prefix\n",
    "- customer_city\n",
    "- customer_state\n",
    "\n",
    "#### Products\n",
    "\n",
    "- product_id\n",
    "- product_category_name\n",
    "- product_name_lenght\n",
    "- product_description_lenght\n",
    "- product_photos_qty\n",
    "- product_weight_g\n",
    "- product_length_cm\n",
    "- product_height_cm\n",
    "- product_width_cm\n",
    "\n",
    "#### Data Product Category Name (Inggris)\n",
    "\n",
    "- product_category_name\n",
    "- product_category_name_english"
   ]
  },
  {
   "cell_type": "markdown",
   "metadata": {},
   "source": [
    "## Assessing Data"
   ]
  },
  {
   "cell_type": "markdown",
   "metadata": {},
   "source": [
    "### Menilai Data Orders"
   ]
  },
  {
   "cell_type": "code",
   "execution_count": 718,
   "metadata": {},
   "outputs": [
    {
     "name": "stdout",
     "output_type": "stream",
     "text": [
      "<class 'pandas.core.frame.DataFrame'>\n",
      "RangeIndex: 99441 entries, 0 to 99440\n",
      "Data columns (total 8 columns):\n",
      " #   Column                         Non-Null Count  Dtype \n",
      "---  ------                         --------------  ----- \n",
      " 0   order_id                       99441 non-null  object\n",
      " 1   customer_id                    99441 non-null  object\n",
      " 2   order_status                   99441 non-null  object\n",
      " 3   order_purchase_timestamp       99441 non-null  object\n",
      " 4   order_approved_at              99281 non-null  object\n",
      " 5   order_delivered_carrier_date   97658 non-null  object\n",
      " 6   order_delivered_customer_date  96476 non-null  object\n",
      " 7   order_estimated_delivery_date  99441 non-null  object\n",
      "dtypes: object(8)\n",
      "memory usage: 6.1+ MB\n"
     ]
    }
   ],
   "source": [
    "orders.info()\n"
   ]
  },
  {
   "cell_type": "markdown",
   "metadata": {},
   "source": [
    "Ternyata ada kesalahan tipe data:\n",
    "- order_id harusnya `string`\n",
    "- customer_id harusnya `string`\n",
    "- order_status harusnya `string`\n",
    "- order_purchase_timestamp harusnya `datetime`\n",
    "- order_approved_at harusnya `datetime`\n",
    "- order_delivered_carrier_date harusnya `datetime`\n",
    "- order_delivered_customer_date harusnya `datetime`\n",
    "- order_estimated_delivery_date harusnya `datetime`"
   ]
  },
  {
   "cell_type": "code",
   "execution_count": 719,
   "metadata": {},
   "outputs": [
    {
     "data": {
      "text/plain": [
       "order_id                            0\n",
       "customer_id                         0\n",
       "order_status                        0\n",
       "order_purchase_timestamp            0\n",
       "order_approved_at                 160\n",
       "order_delivered_carrier_date     1783\n",
       "order_delivered_customer_date    2965\n",
       "order_estimated_delivery_date       0\n",
       "dtype: int64"
      ]
     },
     "execution_count": 719,
     "metadata": {},
     "output_type": "execute_result"
    }
   ],
   "source": [
    "orders.isna().sum()"
   ]
  },
  {
   "cell_type": "code",
   "execution_count": 720,
   "metadata": {},
   "outputs": [
    {
     "name": "stdout",
     "output_type": "stream",
     "text": [
      "['delivered' 'invoiced' 'shipped' 'processing' 'unavailable' 'canceled'\n",
      " 'created' 'approved']\n"
     ]
    }
   ],
   "source": [
    "distinct_status = orders['order_status'].unique()\n",
    "print(distinct_status)"
   ]
  },
  {
   "cell_type": "markdown",
   "metadata": {},
   "source": [
    "Ternyata banyak data NA (not available). Karena ini adalah data dari e-commerce. Bisa dilihat ada beberapa status order.\n",
    "\n",
    "Kolom `order_estimated_delivery_date` itu tidak ada kosong bearti pengiriman berhasil dan diterima pelanggan\n",
    "\n",
    "Kolom `order_delivered_customer_date` ada yang kosong bearti pesanan belum sampai ke pelanggan\n",
    "\n",
    "Kolom `order_delivered_carrier_date` ada yang kosong bearti pesanan belum diterima oleh kurir\n",
    "\n",
    "Kolom `order_approved_at` ada yang kosong bearti ada pesanan yang `canceled` atau `unavailable`"
   ]
  },
  {
   "cell_type": "code",
   "execution_count": 721,
   "metadata": {},
   "outputs": [
    {
     "name": "stdout",
     "output_type": "stream",
     "text": [
      "Jumlah duplikasi:  0\n"
     ]
    },
    {
     "data": {
      "text/html": [
       "<div>\n",
       "<style scoped>\n",
       "    .dataframe tbody tr th:only-of-type {\n",
       "        vertical-align: middle;\n",
       "    }\n",
       "\n",
       "    .dataframe tbody tr th {\n",
       "        vertical-align: top;\n",
       "    }\n",
       "\n",
       "    .dataframe thead th {\n",
       "        text-align: right;\n",
       "    }\n",
       "</style>\n",
       "<table border=\"1\" class=\"dataframe\">\n",
       "  <thead>\n",
       "    <tr style=\"text-align: right;\">\n",
       "      <th></th>\n",
       "      <th>order_id</th>\n",
       "      <th>customer_id</th>\n",
       "      <th>order_status</th>\n",
       "      <th>order_purchase_timestamp</th>\n",
       "      <th>order_approved_at</th>\n",
       "      <th>order_delivered_carrier_date</th>\n",
       "      <th>order_delivered_customer_date</th>\n",
       "      <th>order_estimated_delivery_date</th>\n",
       "    </tr>\n",
       "  </thead>\n",
       "  <tbody>\n",
       "    <tr>\n",
       "      <th>count</th>\n",
       "      <td>99441</td>\n",
       "      <td>99441</td>\n",
       "      <td>99441</td>\n",
       "      <td>99441</td>\n",
       "      <td>99281</td>\n",
       "      <td>97658</td>\n",
       "      <td>96476</td>\n",
       "      <td>99441</td>\n",
       "    </tr>\n",
       "    <tr>\n",
       "      <th>unique</th>\n",
       "      <td>99441</td>\n",
       "      <td>99441</td>\n",
       "      <td>8</td>\n",
       "      <td>98875</td>\n",
       "      <td>90733</td>\n",
       "      <td>81018</td>\n",
       "      <td>95664</td>\n",
       "      <td>459</td>\n",
       "    </tr>\n",
       "    <tr>\n",
       "      <th>top</th>\n",
       "      <td>e481f51cbdc54678b7cc49136f2d6af7</td>\n",
       "      <td>9ef432eb6251297304e76186b10a928d</td>\n",
       "      <td>delivered</td>\n",
       "      <td>2018-04-11 10:48:14</td>\n",
       "      <td>2018-02-27 04:31:10</td>\n",
       "      <td>2018-05-09 15:48:00</td>\n",
       "      <td>2018-05-08 23:38:46</td>\n",
       "      <td>2017-12-20 00:00:00</td>\n",
       "    </tr>\n",
       "    <tr>\n",
       "      <th>freq</th>\n",
       "      <td>1</td>\n",
       "      <td>1</td>\n",
       "      <td>96478</td>\n",
       "      <td>3</td>\n",
       "      <td>9</td>\n",
       "      <td>47</td>\n",
       "      <td>3</td>\n",
       "      <td>522</td>\n",
       "    </tr>\n",
       "  </tbody>\n",
       "</table>\n",
       "</div>"
      ],
      "text/plain": [
       "                                order_id                       customer_id  \\\n",
       "count                              99441                             99441   \n",
       "unique                             99441                             99441   \n",
       "top     e481f51cbdc54678b7cc49136f2d6af7  9ef432eb6251297304e76186b10a928d   \n",
       "freq                                   1                                 1   \n",
       "\n",
       "       order_status order_purchase_timestamp    order_approved_at  \\\n",
       "count         99441                    99441                99281   \n",
       "unique            8                    98875                90733   \n",
       "top       delivered      2018-04-11 10:48:14  2018-02-27 04:31:10   \n",
       "freq          96478                        3                    9   \n",
       "\n",
       "       order_delivered_carrier_date order_delivered_customer_date  \\\n",
       "count                         97658                         96476   \n",
       "unique                        81018                         95664   \n",
       "top             2018-05-09 15:48:00           2018-05-08 23:38:46   \n",
       "freq                             47                             3   \n",
       "\n",
       "       order_estimated_delivery_date  \n",
       "count                          99441  \n",
       "unique                           459  \n",
       "top              2017-12-20 00:00:00  \n",
       "freq                             522  "
      ]
     },
     "execution_count": 721,
     "metadata": {},
     "output_type": "execute_result"
    }
   ],
   "source": [
    "print(\"Jumlah duplikasi: \", orders.duplicated().sum())\n",
    "orders.describe()"
   ]
  },
  {
   "cell_type": "markdown",
   "metadata": {},
   "source": [
    "Tidak ada duplikat dan tidak ada keanehan data."
   ]
  },
  {
   "cell_type": "markdown",
   "metadata": {},
   "source": [
    "### Menilai Data Order Payments"
   ]
  },
  {
   "cell_type": "code",
   "execution_count": 722,
   "metadata": {},
   "outputs": [
    {
     "name": "stdout",
     "output_type": "stream",
     "text": [
      "<class 'pandas.core.frame.DataFrame'>\n",
      "RangeIndex: 103886 entries, 0 to 103885\n",
      "Data columns (total 5 columns):\n",
      " #   Column                Non-Null Count   Dtype  \n",
      "---  ------                --------------   -----  \n",
      " 0   order_id              103886 non-null  object \n",
      " 1   payment_sequential    103886 non-null  int64  \n",
      " 2   payment_type          103886 non-null  object \n",
      " 3   payment_installments  103886 non-null  int64  \n",
      " 4   payment_value         103886 non-null  float64\n",
      "dtypes: float64(1), int64(2), object(2)\n",
      "memory usage: 4.0+ MB\n"
     ]
    }
   ],
   "source": [
    "order_payments.info()"
   ]
  },
  {
   "cell_type": "markdown",
   "metadata": {},
   "source": [
    "Ternyata ada kesalahan tipe data:\n",
    "- order_id harusnya `string`\n",
    "- payment_type harusnya `string`"
   ]
  },
  {
   "cell_type": "code",
   "execution_count": 723,
   "metadata": {},
   "outputs": [
    {
     "data": {
      "text/plain": [
       "order_id                0\n",
       "payment_sequential      0\n",
       "payment_type            0\n",
       "payment_installments    0\n",
       "payment_value           0\n",
       "dtype: int64"
      ]
     },
     "execution_count": 723,
     "metadata": {},
     "output_type": "execute_result"
    }
   ],
   "source": [
    "order_payments.isna().sum()"
   ]
  },
  {
   "cell_type": "markdown",
   "metadata": {},
   "source": [
    "Tidak ada data NA"
   ]
  },
  {
   "cell_type": "code",
   "execution_count": 724,
   "metadata": {},
   "outputs": [
    {
     "name": "stdout",
     "output_type": "stream",
     "text": [
      "Jumlah duplikasi:  0\n"
     ]
    },
    {
     "data": {
      "text/html": [
       "<div>\n",
       "<style scoped>\n",
       "    .dataframe tbody tr th:only-of-type {\n",
       "        vertical-align: middle;\n",
       "    }\n",
       "\n",
       "    .dataframe tbody tr th {\n",
       "        vertical-align: top;\n",
       "    }\n",
       "\n",
       "    .dataframe thead th {\n",
       "        text-align: right;\n",
       "    }\n",
       "</style>\n",
       "<table border=\"1\" class=\"dataframe\">\n",
       "  <thead>\n",
       "    <tr style=\"text-align: right;\">\n",
       "      <th></th>\n",
       "      <th>payment_sequential</th>\n",
       "      <th>payment_installments</th>\n",
       "      <th>payment_value</th>\n",
       "    </tr>\n",
       "  </thead>\n",
       "  <tbody>\n",
       "    <tr>\n",
       "      <th>count</th>\n",
       "      <td>103886.000000</td>\n",
       "      <td>103886.000000</td>\n",
       "      <td>103886.000000</td>\n",
       "    </tr>\n",
       "    <tr>\n",
       "      <th>mean</th>\n",
       "      <td>1.092679</td>\n",
       "      <td>2.853349</td>\n",
       "      <td>154.100380</td>\n",
       "    </tr>\n",
       "    <tr>\n",
       "      <th>std</th>\n",
       "      <td>0.706584</td>\n",
       "      <td>2.687051</td>\n",
       "      <td>217.494064</td>\n",
       "    </tr>\n",
       "    <tr>\n",
       "      <th>min</th>\n",
       "      <td>1.000000</td>\n",
       "      <td>0.000000</td>\n",
       "      <td>0.000000</td>\n",
       "    </tr>\n",
       "    <tr>\n",
       "      <th>25%</th>\n",
       "      <td>1.000000</td>\n",
       "      <td>1.000000</td>\n",
       "      <td>56.790000</td>\n",
       "    </tr>\n",
       "    <tr>\n",
       "      <th>50%</th>\n",
       "      <td>1.000000</td>\n",
       "      <td>1.000000</td>\n",
       "      <td>100.000000</td>\n",
       "    </tr>\n",
       "    <tr>\n",
       "      <th>75%</th>\n",
       "      <td>1.000000</td>\n",
       "      <td>4.000000</td>\n",
       "      <td>171.837500</td>\n",
       "    </tr>\n",
       "    <tr>\n",
       "      <th>max</th>\n",
       "      <td>29.000000</td>\n",
       "      <td>24.000000</td>\n",
       "      <td>13664.080000</td>\n",
       "    </tr>\n",
       "  </tbody>\n",
       "</table>\n",
       "</div>"
      ],
      "text/plain": [
       "       payment_sequential  payment_installments  payment_value\n",
       "count       103886.000000         103886.000000  103886.000000\n",
       "mean             1.092679              2.853349     154.100380\n",
       "std              0.706584              2.687051     217.494064\n",
       "min              1.000000              0.000000       0.000000\n",
       "25%              1.000000              1.000000      56.790000\n",
       "50%              1.000000              1.000000     100.000000\n",
       "75%              1.000000              4.000000     171.837500\n",
       "max             29.000000             24.000000   13664.080000"
      ]
     },
     "execution_count": 724,
     "metadata": {},
     "output_type": "execute_result"
    }
   ],
   "source": [
    "print(\"Jumlah duplikasi: \",order_payments.duplicated().sum())\n",
    "order_payments.describe()"
   ]
  },
  {
   "cell_type": "markdown",
   "metadata": {},
   "source": [
    "Tidak ada duplikat dan tidak ada keanehan data."
   ]
  },
  {
   "cell_type": "markdown",
   "metadata": {},
   "source": [
    "### Menilai Data Order Items"
   ]
  },
  {
   "cell_type": "code",
   "execution_count": 725,
   "metadata": {},
   "outputs": [
    {
     "name": "stdout",
     "output_type": "stream",
     "text": [
      "<class 'pandas.core.frame.DataFrame'>\n",
      "RangeIndex: 112650 entries, 0 to 112649\n",
      "Data columns (total 7 columns):\n",
      " #   Column               Non-Null Count   Dtype  \n",
      "---  ------               --------------   -----  \n",
      " 0   order_id             112650 non-null  object \n",
      " 1   order_item_id        112650 non-null  int64  \n",
      " 2   product_id           112650 non-null  object \n",
      " 3   seller_id            112650 non-null  object \n",
      " 4   shipping_limit_date  112650 non-null  object \n",
      " 5   price                112650 non-null  float64\n",
      " 6   freight_value        112650 non-null  float64\n",
      "dtypes: float64(2), int64(1), object(4)\n",
      "memory usage: 6.0+ MB\n"
     ]
    }
   ],
   "source": [
    "order_items.info()"
   ]
  },
  {
   "cell_type": "markdown",
   "metadata": {},
   "source": [
    "Ternyata ada kesalahan tipe data:\n",
    "- order_id harusnya `string`\n",
    "- shipping_limit_date harusnya `datetime`\n",
    "- product_id harusnya `string`\n",
    "- seller_id harusnya `string`"
   ]
  },
  {
   "cell_type": "code",
   "execution_count": 726,
   "metadata": {},
   "outputs": [
    {
     "data": {
      "text/plain": [
       "order_id               0\n",
       "order_item_id          0\n",
       "product_id             0\n",
       "seller_id              0\n",
       "shipping_limit_date    0\n",
       "price                  0\n",
       "freight_value          0\n",
       "dtype: int64"
      ]
     },
     "execution_count": 726,
     "metadata": {},
     "output_type": "execute_result"
    }
   ],
   "source": [
    "order_items.isna().sum()"
   ]
  },
  {
   "cell_type": "markdown",
   "metadata": {},
   "source": [
    "Tidak ada data NA"
   ]
  },
  {
   "cell_type": "code",
   "execution_count": 727,
   "metadata": {},
   "outputs": [
    {
     "name": "stdout",
     "output_type": "stream",
     "text": [
      "Jumlah duplikasi:  0\n"
     ]
    },
    {
     "data": {
      "text/html": [
       "<div>\n",
       "<style scoped>\n",
       "    .dataframe tbody tr th:only-of-type {\n",
       "        vertical-align: middle;\n",
       "    }\n",
       "\n",
       "    .dataframe tbody tr th {\n",
       "        vertical-align: top;\n",
       "    }\n",
       "\n",
       "    .dataframe thead th {\n",
       "        text-align: right;\n",
       "    }\n",
       "</style>\n",
       "<table border=\"1\" class=\"dataframe\">\n",
       "  <thead>\n",
       "    <tr style=\"text-align: right;\">\n",
       "      <th></th>\n",
       "      <th>order_item_id</th>\n",
       "      <th>price</th>\n",
       "      <th>freight_value</th>\n",
       "    </tr>\n",
       "  </thead>\n",
       "  <tbody>\n",
       "    <tr>\n",
       "      <th>count</th>\n",
       "      <td>112650.000000</td>\n",
       "      <td>112650.000000</td>\n",
       "      <td>112650.000000</td>\n",
       "    </tr>\n",
       "    <tr>\n",
       "      <th>mean</th>\n",
       "      <td>1.197834</td>\n",
       "      <td>120.653739</td>\n",
       "      <td>19.990320</td>\n",
       "    </tr>\n",
       "    <tr>\n",
       "      <th>std</th>\n",
       "      <td>0.705124</td>\n",
       "      <td>183.633928</td>\n",
       "      <td>15.806405</td>\n",
       "    </tr>\n",
       "    <tr>\n",
       "      <th>min</th>\n",
       "      <td>1.000000</td>\n",
       "      <td>0.850000</td>\n",
       "      <td>0.000000</td>\n",
       "    </tr>\n",
       "    <tr>\n",
       "      <th>25%</th>\n",
       "      <td>1.000000</td>\n",
       "      <td>39.900000</td>\n",
       "      <td>13.080000</td>\n",
       "    </tr>\n",
       "    <tr>\n",
       "      <th>50%</th>\n",
       "      <td>1.000000</td>\n",
       "      <td>74.990000</td>\n",
       "      <td>16.260000</td>\n",
       "    </tr>\n",
       "    <tr>\n",
       "      <th>75%</th>\n",
       "      <td>1.000000</td>\n",
       "      <td>134.900000</td>\n",
       "      <td>21.150000</td>\n",
       "    </tr>\n",
       "    <tr>\n",
       "      <th>max</th>\n",
       "      <td>21.000000</td>\n",
       "      <td>6735.000000</td>\n",
       "      <td>409.680000</td>\n",
       "    </tr>\n",
       "  </tbody>\n",
       "</table>\n",
       "</div>"
      ],
      "text/plain": [
       "       order_item_id          price  freight_value\n",
       "count  112650.000000  112650.000000  112650.000000\n",
       "mean        1.197834     120.653739      19.990320\n",
       "std         0.705124     183.633928      15.806405\n",
       "min         1.000000       0.850000       0.000000\n",
       "25%         1.000000      39.900000      13.080000\n",
       "50%         1.000000      74.990000      16.260000\n",
       "75%         1.000000     134.900000      21.150000\n",
       "max        21.000000    6735.000000     409.680000"
      ]
     },
     "execution_count": 727,
     "metadata": {},
     "output_type": "execute_result"
    }
   ],
   "source": [
    "print(\"Jumlah duplikasi: \", order_items.duplicated().sum())\n",
    "order_items.describe()"
   ]
  },
  {
   "cell_type": "markdown",
   "metadata": {},
   "source": [
    "Tidak ada duplikat dan tidak ada keanehan data."
   ]
  },
  {
   "cell_type": "markdown",
   "metadata": {},
   "source": [
    "### Menilai Data Customers"
   ]
  },
  {
   "cell_type": "code",
   "execution_count": 728,
   "metadata": {},
   "outputs": [
    {
     "name": "stdout",
     "output_type": "stream",
     "text": [
      "<class 'pandas.core.frame.DataFrame'>\n",
      "RangeIndex: 99441 entries, 0 to 99440\n",
      "Data columns (total 5 columns):\n",
      " #   Column                    Non-Null Count  Dtype \n",
      "---  ------                    --------------  ----- \n",
      " 0   customer_id               99441 non-null  object\n",
      " 1   customer_unique_id        99441 non-null  object\n",
      " 2   customer_zip_code_prefix  99441 non-null  int64 \n",
      " 3   customer_city             99441 non-null  object\n",
      " 4   customer_state            99441 non-null  object\n",
      "dtypes: int64(1), object(4)\n",
      "memory usage: 3.8+ MB\n"
     ]
    }
   ],
   "source": [
    "customers.info()"
   ]
  },
  {
   "cell_type": "markdown",
   "metadata": {},
   "source": [
    "Ternyata ada kesalahan tipe data:\n",
    "- customer_id harusnya `string`\n",
    "- customer_unique_id harusnya `string`\n",
    "- customer_city harusnya `string`\n",
    "- customer_state harusnya `string`"
   ]
  },
  {
   "cell_type": "code",
   "execution_count": 729,
   "metadata": {},
   "outputs": [
    {
     "data": {
      "text/plain": [
       "customer_id                 0\n",
       "customer_unique_id          0\n",
       "customer_zip_code_prefix    0\n",
       "customer_city               0\n",
       "customer_state              0\n",
       "dtype: int64"
      ]
     },
     "execution_count": 729,
     "metadata": {},
     "output_type": "execute_result"
    }
   ],
   "source": [
    "customers.isna().sum()"
   ]
  },
  {
   "cell_type": "markdown",
   "metadata": {},
   "source": [
    "Tidak ada data NA"
   ]
  },
  {
   "cell_type": "code",
   "execution_count": 730,
   "metadata": {},
   "outputs": [
    {
     "name": "stdout",
     "output_type": "stream",
     "text": [
      "Jumlah duplikasi:  0\n"
     ]
    },
    {
     "data": {
      "text/html": [
       "<div>\n",
       "<style scoped>\n",
       "    .dataframe tbody tr th:only-of-type {\n",
       "        vertical-align: middle;\n",
       "    }\n",
       "\n",
       "    .dataframe tbody tr th {\n",
       "        vertical-align: top;\n",
       "    }\n",
       "\n",
       "    .dataframe thead th {\n",
       "        text-align: right;\n",
       "    }\n",
       "</style>\n",
       "<table border=\"1\" class=\"dataframe\">\n",
       "  <thead>\n",
       "    <tr style=\"text-align: right;\">\n",
       "      <th></th>\n",
       "      <th>customer_zip_code_prefix</th>\n",
       "    </tr>\n",
       "  </thead>\n",
       "  <tbody>\n",
       "    <tr>\n",
       "      <th>count</th>\n",
       "      <td>99441.000000</td>\n",
       "    </tr>\n",
       "    <tr>\n",
       "      <th>mean</th>\n",
       "      <td>35137.474583</td>\n",
       "    </tr>\n",
       "    <tr>\n",
       "      <th>std</th>\n",
       "      <td>29797.938996</td>\n",
       "    </tr>\n",
       "    <tr>\n",
       "      <th>min</th>\n",
       "      <td>1003.000000</td>\n",
       "    </tr>\n",
       "    <tr>\n",
       "      <th>25%</th>\n",
       "      <td>11347.000000</td>\n",
       "    </tr>\n",
       "    <tr>\n",
       "      <th>50%</th>\n",
       "      <td>24416.000000</td>\n",
       "    </tr>\n",
       "    <tr>\n",
       "      <th>75%</th>\n",
       "      <td>58900.000000</td>\n",
       "    </tr>\n",
       "    <tr>\n",
       "      <th>max</th>\n",
       "      <td>99990.000000</td>\n",
       "    </tr>\n",
       "  </tbody>\n",
       "</table>\n",
       "</div>"
      ],
      "text/plain": [
       "       customer_zip_code_prefix\n",
       "count              99441.000000\n",
       "mean               35137.474583\n",
       "std                29797.938996\n",
       "min                 1003.000000\n",
       "25%                11347.000000\n",
       "50%                24416.000000\n",
       "75%                58900.000000\n",
       "max                99990.000000"
      ]
     },
     "execution_count": 730,
     "metadata": {},
     "output_type": "execute_result"
    }
   ],
   "source": [
    "print(\"Jumlah duplikasi: \", customers.duplicated().sum())\n",
    "customers.describe()"
   ]
  },
  {
   "cell_type": "markdown",
   "metadata": {},
   "source": [
    "Tidak ada duplikat dan tidak ada keanehan data."
   ]
  },
  {
   "cell_type": "markdown",
   "metadata": {},
   "source": [
    "### Menilai Data Products"
   ]
  },
  {
   "cell_type": "code",
   "execution_count": 731,
   "metadata": {},
   "outputs": [
    {
     "name": "stdout",
     "output_type": "stream",
     "text": [
      "<class 'pandas.core.frame.DataFrame'>\n",
      "RangeIndex: 32951 entries, 0 to 32950\n",
      "Data columns (total 9 columns):\n",
      " #   Column                      Non-Null Count  Dtype  \n",
      "---  ------                      --------------  -----  \n",
      " 0   product_id                  32951 non-null  object \n",
      " 1   product_category_name       32341 non-null  object \n",
      " 2   product_name_lenght         32341 non-null  float64\n",
      " 3   product_description_lenght  32341 non-null  float64\n",
      " 4   product_photos_qty          32341 non-null  float64\n",
      " 5   product_weight_g            32949 non-null  float64\n",
      " 6   product_length_cm           32949 non-null  float64\n",
      " 7   product_height_cm           32949 non-null  float64\n",
      " 8   product_width_cm            32949 non-null  float64\n",
      "dtypes: float64(7), object(2)\n",
      "memory usage: 2.3+ MB\n"
     ]
    }
   ],
   "source": [
    "products.info()"
   ]
  },
  {
   "cell_type": "markdown",
   "metadata": {},
   "source": [
    "Ternyata ada kesalahan tipe data:\n",
    "- product_id harusnya `string`\n",
    "- product_category_name harusnya `string`"
   ]
  },
  {
   "cell_type": "code",
   "execution_count": 732,
   "metadata": {},
   "outputs": [
    {
     "data": {
      "text/plain": [
       "product_id                      0\n",
       "product_category_name         610\n",
       "product_name_lenght           610\n",
       "product_description_lenght    610\n",
       "product_photos_qty            610\n",
       "product_weight_g                2\n",
       "product_length_cm               2\n",
       "product_height_cm               2\n",
       "product_width_cm                2\n",
       "dtype: int64"
      ]
     },
     "execution_count": 732,
     "metadata": {},
     "output_type": "execute_result"
    }
   ],
   "source": [
    "products.isna().sum()"
   ]
  },
  {
   "cell_type": "markdown",
   "metadata": {},
   "source": [
    "Ternyata ada kolom data 610 NA (not available):\n",
    "- `product_category_name`\n",
    "- `product_name_lenght`\n",
    "- `product_description_lenght`\n",
    "- `product_photos_qty`\n",
    "\n",
    "Ada kolom data 2 NA:\n",
    "- `product_weight_g`\n",
    "- `product_length_cm`\n",
    "- `product_height_cm`\n",
    "- `product_width_cm`"
   ]
  },
  {
   "cell_type": "code",
   "execution_count": 733,
   "metadata": {},
   "outputs": [
    {
     "name": "stdout",
     "output_type": "stream",
     "text": [
      "Jumlah duplikasi:  0\n"
     ]
    },
    {
     "data": {
      "text/html": [
       "<div>\n",
       "<style scoped>\n",
       "    .dataframe tbody tr th:only-of-type {\n",
       "        vertical-align: middle;\n",
       "    }\n",
       "\n",
       "    .dataframe tbody tr th {\n",
       "        vertical-align: top;\n",
       "    }\n",
       "\n",
       "    .dataframe thead th {\n",
       "        text-align: right;\n",
       "    }\n",
       "</style>\n",
       "<table border=\"1\" class=\"dataframe\">\n",
       "  <thead>\n",
       "    <tr style=\"text-align: right;\">\n",
       "      <th></th>\n",
       "      <th>product_name_lenght</th>\n",
       "      <th>product_description_lenght</th>\n",
       "      <th>product_photos_qty</th>\n",
       "      <th>product_weight_g</th>\n",
       "      <th>product_length_cm</th>\n",
       "      <th>product_height_cm</th>\n",
       "      <th>product_width_cm</th>\n",
       "    </tr>\n",
       "  </thead>\n",
       "  <tbody>\n",
       "    <tr>\n",
       "      <th>count</th>\n",
       "      <td>32341.000000</td>\n",
       "      <td>32341.000000</td>\n",
       "      <td>32341.000000</td>\n",
       "      <td>32949.000000</td>\n",
       "      <td>32949.000000</td>\n",
       "      <td>32949.000000</td>\n",
       "      <td>32949.000000</td>\n",
       "    </tr>\n",
       "    <tr>\n",
       "      <th>mean</th>\n",
       "      <td>48.476949</td>\n",
       "      <td>771.495285</td>\n",
       "      <td>2.188986</td>\n",
       "      <td>2276.472488</td>\n",
       "      <td>30.815078</td>\n",
       "      <td>16.937661</td>\n",
       "      <td>23.196728</td>\n",
       "    </tr>\n",
       "    <tr>\n",
       "      <th>std</th>\n",
       "      <td>10.245741</td>\n",
       "      <td>635.115225</td>\n",
       "      <td>1.736766</td>\n",
       "      <td>4282.038731</td>\n",
       "      <td>16.914458</td>\n",
       "      <td>13.637554</td>\n",
       "      <td>12.079047</td>\n",
       "    </tr>\n",
       "    <tr>\n",
       "      <th>min</th>\n",
       "      <td>5.000000</td>\n",
       "      <td>4.000000</td>\n",
       "      <td>1.000000</td>\n",
       "      <td>0.000000</td>\n",
       "      <td>7.000000</td>\n",
       "      <td>2.000000</td>\n",
       "      <td>6.000000</td>\n",
       "    </tr>\n",
       "    <tr>\n",
       "      <th>25%</th>\n",
       "      <td>42.000000</td>\n",
       "      <td>339.000000</td>\n",
       "      <td>1.000000</td>\n",
       "      <td>300.000000</td>\n",
       "      <td>18.000000</td>\n",
       "      <td>8.000000</td>\n",
       "      <td>15.000000</td>\n",
       "    </tr>\n",
       "    <tr>\n",
       "      <th>50%</th>\n",
       "      <td>51.000000</td>\n",
       "      <td>595.000000</td>\n",
       "      <td>1.000000</td>\n",
       "      <td>700.000000</td>\n",
       "      <td>25.000000</td>\n",
       "      <td>13.000000</td>\n",
       "      <td>20.000000</td>\n",
       "    </tr>\n",
       "    <tr>\n",
       "      <th>75%</th>\n",
       "      <td>57.000000</td>\n",
       "      <td>972.000000</td>\n",
       "      <td>3.000000</td>\n",
       "      <td>1900.000000</td>\n",
       "      <td>38.000000</td>\n",
       "      <td>21.000000</td>\n",
       "      <td>30.000000</td>\n",
       "    </tr>\n",
       "    <tr>\n",
       "      <th>max</th>\n",
       "      <td>76.000000</td>\n",
       "      <td>3992.000000</td>\n",
       "      <td>20.000000</td>\n",
       "      <td>40425.000000</td>\n",
       "      <td>105.000000</td>\n",
       "      <td>105.000000</td>\n",
       "      <td>118.000000</td>\n",
       "    </tr>\n",
       "  </tbody>\n",
       "</table>\n",
       "</div>"
      ],
      "text/plain": [
       "       product_name_lenght  product_description_lenght  product_photos_qty  \\\n",
       "count         32341.000000                32341.000000        32341.000000   \n",
       "mean             48.476949                  771.495285            2.188986   \n",
       "std              10.245741                  635.115225            1.736766   \n",
       "min               5.000000                    4.000000            1.000000   \n",
       "25%              42.000000                  339.000000            1.000000   \n",
       "50%              51.000000                  595.000000            1.000000   \n",
       "75%              57.000000                  972.000000            3.000000   \n",
       "max              76.000000                 3992.000000           20.000000   \n",
       "\n",
       "       product_weight_g  product_length_cm  product_height_cm  \\\n",
       "count      32949.000000       32949.000000       32949.000000   \n",
       "mean        2276.472488          30.815078          16.937661   \n",
       "std         4282.038731          16.914458          13.637554   \n",
       "min            0.000000           7.000000           2.000000   \n",
       "25%          300.000000          18.000000           8.000000   \n",
       "50%          700.000000          25.000000          13.000000   \n",
       "75%         1900.000000          38.000000          21.000000   \n",
       "max        40425.000000         105.000000         105.000000   \n",
       "\n",
       "       product_width_cm  \n",
       "count      32949.000000  \n",
       "mean          23.196728  \n",
       "std           12.079047  \n",
       "min            6.000000  \n",
       "25%           15.000000  \n",
       "50%           20.000000  \n",
       "75%           30.000000  \n",
       "max          118.000000  "
      ]
     },
     "execution_count": 733,
     "metadata": {},
     "output_type": "execute_result"
    }
   ],
   "source": [
    "print(\"Jumlah duplikasi: \", products.duplicated().sum())\n",
    "products.describe()"
   ]
  },
  {
   "cell_type": "markdown",
   "metadata": {},
   "source": [
    "Tidak ada duplikat dan tidak ada keanehan data."
   ]
  },
  {
   "cell_type": "markdown",
   "metadata": {},
   "source": [
    "### Menilai data Category Name"
   ]
  },
  {
   "cell_type": "code",
   "execution_count": 734,
   "metadata": {},
   "outputs": [
    {
     "name": "stdout",
     "output_type": "stream",
     "text": [
      "<class 'pandas.core.frame.DataFrame'>\n",
      "RangeIndex: 71 entries, 0 to 70\n",
      "Data columns (total 2 columns):\n",
      " #   Column                         Non-Null Count  Dtype \n",
      "---  ------                         --------------  ----- \n",
      " 0   product_category_name          71 non-null     object\n",
      " 1   product_category_name_english  71 non-null     object\n",
      "dtypes: object(2)\n",
      "memory usage: 1.2+ KB\n"
     ]
    }
   ],
   "source": [
    "product_category_name.info()"
   ]
  },
  {
   "cell_type": "markdown",
   "metadata": {},
   "source": [
    "Ternyata ada kesalahan tipe data:\n",
    "- product_category_name harusnya `string`\n",
    "- product_category_name_english harusnya `string`"
   ]
  },
  {
   "cell_type": "code",
   "execution_count": 735,
   "metadata": {},
   "outputs": [
    {
     "data": {
      "text/plain": [
       "product_category_name            0\n",
       "product_category_name_english    0\n",
       "dtype: int64"
      ]
     },
     "execution_count": 735,
     "metadata": {},
     "output_type": "execute_result"
    }
   ],
   "source": [
    "product_category_name.isna().sum()"
   ]
  },
  {
   "cell_type": "markdown",
   "metadata": {},
   "source": [
    "Tidak ada data NA"
   ]
  },
  {
   "cell_type": "code",
   "execution_count": 736,
   "metadata": {},
   "outputs": [
    {
     "name": "stdout",
     "output_type": "stream",
     "text": [
      "Jumlah duplikasi:  0\n"
     ]
    },
    {
     "data": {
      "text/html": [
       "<div>\n",
       "<style scoped>\n",
       "    .dataframe tbody tr th:only-of-type {\n",
       "        vertical-align: middle;\n",
       "    }\n",
       "\n",
       "    .dataframe tbody tr th {\n",
       "        vertical-align: top;\n",
       "    }\n",
       "\n",
       "    .dataframe thead th {\n",
       "        text-align: right;\n",
       "    }\n",
       "</style>\n",
       "<table border=\"1\" class=\"dataframe\">\n",
       "  <thead>\n",
       "    <tr style=\"text-align: right;\">\n",
       "      <th></th>\n",
       "      <th>product_category_name</th>\n",
       "      <th>product_category_name_english</th>\n",
       "    </tr>\n",
       "  </thead>\n",
       "  <tbody>\n",
       "    <tr>\n",
       "      <th>count</th>\n",
       "      <td>71</td>\n",
       "      <td>71</td>\n",
       "    </tr>\n",
       "    <tr>\n",
       "      <th>unique</th>\n",
       "      <td>71</td>\n",
       "      <td>71</td>\n",
       "    </tr>\n",
       "    <tr>\n",
       "      <th>top</th>\n",
       "      <td>beleza_saude</td>\n",
       "      <td>health_beauty</td>\n",
       "    </tr>\n",
       "    <tr>\n",
       "      <th>freq</th>\n",
       "      <td>1</td>\n",
       "      <td>1</td>\n",
       "    </tr>\n",
       "  </tbody>\n",
       "</table>\n",
       "</div>"
      ],
      "text/plain": [
       "       product_category_name product_category_name_english\n",
       "count                     71                            71\n",
       "unique                    71                            71\n",
       "top             beleza_saude                 health_beauty\n",
       "freq                       1                             1"
      ]
     },
     "execution_count": 736,
     "metadata": {},
     "output_type": "execute_result"
    }
   ],
   "source": [
    "print(\"Jumlah duplikasi: \", product_category_name.duplicated().sum())\n",
    "product_category_name.describe()"
   ]
  },
  {
   "cell_type": "markdown",
   "metadata": {},
   "source": [
    "Tidak ada data NA"
   ]
  },
  {
   "cell_type": "markdown",
   "metadata": {},
   "source": [
    "### Kesimpulan\n",
    "\n",
    "- Orders\n",
    "  - Salah tipe data:\n",
    "    - order_id harusnya `string`\n",
    "    - customer_id harusnya `string`\n",
    "    - order_status harusnya `string`\n",
    "    - order_purchase_timestamp harusnya `datetime`\n",
    "    - order_approved_at harusnya `datetime`\n",
    "    - order_delivered_carrier_date harusnya `datetime`\n",
    "    - order_delivered_customer_date harusnya `datetime`\n",
    "    - order_estimated_delivery_date harusnya `datetime`\n",
    "  - Data kosong karena kolom `order_status` ada beberapa status 'delivered' 'invoiced' 'shipped' 'processing' 'unavailable' 'canceled', 'created' 'approved'\n",
    "- Order Payments\n",
    "  - Salah tipe data:\n",
    "    - order_id harusnya `string`\n",
    "    - payment_type harusnya `string`\n",
    "- Order Items\n",
    "  - Salah tipe data:\n",
    "    - order_id harusnya `string`\n",
    "    - shipping_limit_date harusnya `datetime`\n",
    "    - product_id harusnya `string`\n",
    "    - seller_id harusnya `string`\n",
    "- Customers\n",
    "  - Salah tipe data:\n",
    "    - customer_id harusnya `string`\n",
    "    - customer_unique_id harusnya `string`\n",
    "    - customer_city harusnya `string`\n",
    "    - customer_state harusnya `string`\n",
    "- Products\n",
    "  - Salah tipe data:\n",
    "    - product_id harusnya `string`\n",
    "    - product_category_name harusnya `string`\n",
    "  - Terdapat 610 missing values pada kolom:\n",
    "    - `product_category_name`\n",
    "    - `product_name_lenght`\n",
    "    - `product_description_lenght`\n",
    "    - `product_photos_qty`\n",
    "  - Terdapat 2 missing values pada kolom:\n",
    "    - `product_weight_g`\n",
    "    - `product_length_cm`\n",
    "    - `product_height_cm`\n",
    "    - `product_width_cm`\n",
    "- Product_Category\n",
    "  - Salah tipe data\n",
    "    - product_category_name harusnya `string`\n",
    "    - product_category_name_english harusnya `string`"
   ]
  },
  {
   "cell_type": "markdown",
   "metadata": {},
   "source": [
    "## Cleaning Data\n",
    "\n",
    "Proses pembersihan data berdasarkan analisa di atas"
   ]
  },
  {
   "cell_type": "markdown",
   "metadata": {},
   "source": [
    "### Orders"
   ]
  },
  {
   "cell_type": "code",
   "execution_count": 737,
   "metadata": {},
   "outputs": [
    {
     "name": "stdout",
     "output_type": "stream",
     "text": [
      "<class 'pandas.core.frame.DataFrame'>\n",
      "RangeIndex: 99441 entries, 0 to 99440\n",
      "Data columns (total 8 columns):\n",
      " #   Column                         Non-Null Count  Dtype         \n",
      "---  ------                         --------------  -----         \n",
      " 0   order_id                       99441 non-null  string        \n",
      " 1   customer_id                    99441 non-null  string        \n",
      " 2   order_status                   99441 non-null  string        \n",
      " 3   order_purchase_timestamp       99441 non-null  datetime64[ns]\n",
      " 4   order_approved_at              99281 non-null  datetime64[ns]\n",
      " 5   order_delivered_carrier_date   97658 non-null  datetime64[ns]\n",
      " 6   order_delivered_customer_date  96476 non-null  datetime64[ns]\n",
      " 7   order_estimated_delivery_date  99441 non-null  datetime64[ns]\n",
      "dtypes: datetime64[ns](5), string(3)\n",
      "memory usage: 6.1 MB\n",
      "\n",
      " Total baris delivered: 96478\n",
      "\n",
      " Total baris setelah dihapus NA: 96455\n"
     ]
    },
    {
     "data": {
      "text/plain": [
       "order_id                         0\n",
       "customer_id                      0\n",
       "order_status                     0\n",
       "order_purchase_timestamp         0\n",
       "order_approved_at                0\n",
       "order_delivered_carrier_date     0\n",
       "order_delivered_customer_date    0\n",
       "order_estimated_delivery_date    0\n",
       "dtype: int64"
      ]
     },
     "execution_count": 737,
     "metadata": {},
     "output_type": "execute_result"
    }
   ],
   "source": [
    "orders[[\n",
    "\t\"order_purchase_timestamp\",\n",
    "\t\"order_approved_at\",\n",
    "\t\"order_delivered_carrier_date\",\n",
    "\t\"order_delivered_customer_date\",\n",
    "\t\"order_estimated_delivery_date\"\n",
    "\t]] = orders[[\n",
    "\t\"order_purchase_timestamp\",\n",
    "\t\"order_approved_at\",\n",
    "\t\"order_delivered_carrier_date\",\n",
    "\t\"order_delivered_customer_date\",\n",
    "\t\"order_estimated_delivery_date\"\n",
    "\t]].apply(pd.to_datetime)\n",
    "\n",
    "orders[orders.select_dtypes(include=\"object\").columns] = orders.select_dtypes(include=\"object\").astype(\"string\")\n",
    "orders.info()\n",
    "\n",
    "delivered_orders = orders[orders[\"order_status\"] == \"delivered\"]\n",
    "print(\"\\n Total baris delivered:\", delivered_orders.shape[0])\n",
    "\n",
    "orders = delivered_orders.dropna()\n",
    "print(\"\\n Total baris setelah dihapus NA:\", orders.shape[0])\n",
    "orders.isna().sum()\n",
    "\n",
    "orders.isna().sum()"
   ]
  },
  {
   "cell_type": "markdown",
   "metadata": {},
   "source": [
    "Sekarang semua tipe data sudah diperbaharui.\n",
    "\n",
    "Data yang NA sudah dihapus."
   ]
  },
  {
   "cell_type": "markdown",
   "metadata": {},
   "source": [
    "### Order Payments"
   ]
  },
  {
   "cell_type": "code",
   "execution_count": 738,
   "metadata": {},
   "outputs": [
    {
     "name": "stdout",
     "output_type": "stream",
     "text": [
      "<class 'pandas.core.frame.DataFrame'>\n",
      "RangeIndex: 103886 entries, 0 to 103885\n",
      "Data columns (total 5 columns):\n",
      " #   Column                Non-Null Count   Dtype  \n",
      "---  ------                --------------   -----  \n",
      " 0   order_id              103886 non-null  string \n",
      " 1   payment_sequential    103886 non-null  int64  \n",
      " 2   payment_type          103886 non-null  string \n",
      " 3   payment_installments  103886 non-null  int64  \n",
      " 4   payment_value         103886 non-null  float64\n",
      "dtypes: float64(1), int64(2), string(2)\n",
      "memory usage: 4.0 MB\n"
     ]
    }
   ],
   "source": [
    "order_payments[order_payments.select_dtypes(include=\"object\").columns] = order_payments.select_dtypes(include=\"object\").astype(\"string\")\n",
    "order_payments.info()"
   ]
  },
  {
   "cell_type": "markdown",
   "metadata": {},
   "source": [
    "Sekarang semua tipe data sudah diperbaharui."
   ]
  },
  {
   "cell_type": "markdown",
   "metadata": {},
   "source": [
    "### Order Items"
   ]
  },
  {
   "cell_type": "code",
   "execution_count": 739,
   "metadata": {},
   "outputs": [
    {
     "name": "stdout",
     "output_type": "stream",
     "text": [
      "<class 'pandas.core.frame.DataFrame'>\n",
      "RangeIndex: 112650 entries, 0 to 112649\n",
      "Data columns (total 7 columns):\n",
      " #   Column               Non-Null Count   Dtype         \n",
      "---  ------               --------------   -----         \n",
      " 0   order_id             112650 non-null  string        \n",
      " 1   order_item_id        112650 non-null  int64         \n",
      " 2   product_id           112650 non-null  string        \n",
      " 3   seller_id            112650 non-null  string        \n",
      " 4   shipping_limit_date  112650 non-null  datetime64[ns]\n",
      " 5   price                112650 non-null  float64       \n",
      " 6   freight_value        112650 non-null  float64       \n",
      "dtypes: datetime64[ns](1), float64(2), int64(1), string(3)\n",
      "memory usage: 6.0 MB\n"
     ]
    }
   ],
   "source": [
    "order_items[\"shipping_limit_date\"] = pd.to_datetime(order_items[\"shipping_limit_date\"])\n",
    "\n",
    "order_items[order_items.select_dtypes(include=\"object\").columns] = order_items.select_dtypes(include=\"object\").astype(\"string\")\n",
    "order_items.info()"
   ]
  },
  {
   "cell_type": "markdown",
   "metadata": {},
   "source": [
    "Sekarang semua tipe data sudah diperbaharui."
   ]
  },
  {
   "cell_type": "markdown",
   "metadata": {},
   "source": [
    "### Customers"
   ]
  },
  {
   "cell_type": "code",
   "execution_count": 740,
   "metadata": {},
   "outputs": [
    {
     "name": "stdout",
     "output_type": "stream",
     "text": [
      "<class 'pandas.core.frame.DataFrame'>\n",
      "RangeIndex: 99441 entries, 0 to 99440\n",
      "Data columns (total 5 columns):\n",
      " #   Column                    Non-Null Count  Dtype \n",
      "---  ------                    --------------  ----- \n",
      " 0   customer_id               99441 non-null  string\n",
      " 1   customer_unique_id        99441 non-null  string\n",
      " 2   customer_zip_code_prefix  99441 non-null  int64 \n",
      " 3   customer_city             99441 non-null  string\n",
      " 4   customer_state            99441 non-null  string\n",
      "dtypes: int64(1), string(4)\n",
      "memory usage: 3.8 MB\n"
     ]
    }
   ],
   "source": [
    "customers[customers.select_dtypes(include=\"object\").columns] = customers.select_dtypes(include=\"object\").astype(\"string\")\n",
    "customers.info()"
   ]
  },
  {
   "cell_type": "markdown",
   "metadata": {},
   "source": [
    "Sekarang semua tipe data sudah diperbaharui."
   ]
  },
  {
   "cell_type": "markdown",
   "metadata": {},
   "source": [
    "### Products"
   ]
  },
  {
   "cell_type": "code",
   "execution_count": 741,
   "metadata": {},
   "outputs": [
    {
     "name": "stdout",
     "output_type": "stream",
     "text": [
      "<class 'pandas.core.frame.DataFrame'>\n",
      "RangeIndex: 32951 entries, 0 to 32950\n",
      "Data columns (total 9 columns):\n",
      " #   Column                      Non-Null Count  Dtype  \n",
      "---  ------                      --------------  -----  \n",
      " 0   product_id                  32951 non-null  string \n",
      " 1   product_category_name       32341 non-null  string \n",
      " 2   product_name_lenght         32341 non-null  float64\n",
      " 3   product_description_lenght  32341 non-null  float64\n",
      " 4   product_photos_qty          32341 non-null  float64\n",
      " 5   product_weight_g            32949 non-null  float64\n",
      " 6   product_length_cm           32949 non-null  float64\n",
      " 7   product_height_cm           32949 non-null  float64\n",
      " 8   product_width_cm            32949 non-null  float64\n",
      "dtypes: float64(7), string(2)\n",
      "memory usage: 2.3 MB\n",
      "\n",
      " Total baris product sebelum dihapus NA: 32951\n",
      "\n",
      " Total baris product sesudah dihapus NA: 32340\n"
     ]
    },
    {
     "data": {
      "text/plain": [
       "product_id                    0\n",
       "product_category_name         0\n",
       "product_name_lenght           0\n",
       "product_description_lenght    0\n",
       "product_photos_qty            0\n",
       "product_weight_g              0\n",
       "product_length_cm             0\n",
       "product_height_cm             0\n",
       "product_width_cm              0\n",
       "dtype: int64"
      ]
     },
     "execution_count": 741,
     "metadata": {},
     "output_type": "execute_result"
    }
   ],
   "source": [
    "products[products.select_dtypes(include=\"object\").columns] = products.select_dtypes(include=\"object\").astype(\"string\")\n",
    "products.info()\n",
    "\n",
    "print(\"\\n Total baris product sebelum dihapus NA:\", products.shape[0])\n",
    "\n",
    "products = products.dropna()\n",
    "print(\"\\n Total baris product sesudah dihapus NA:\", products.shape[0])\n",
    "\n",
    "products.isna().sum()"
   ]
  },
  {
   "cell_type": "markdown",
   "metadata": {},
   "source": [
    "Sekarang semua tipe data sudah diperbaharui.\n",
    "\n",
    "Data yang NA sudah dihapus."
   ]
  },
  {
   "cell_type": "markdown",
   "metadata": {},
   "source": [
    "### Product Category"
   ]
  },
  {
   "cell_type": "code",
   "execution_count": 742,
   "metadata": {},
   "outputs": [
    {
     "name": "stdout",
     "output_type": "stream",
     "text": [
      "<class 'pandas.core.frame.DataFrame'>\n",
      "RangeIndex: 71 entries, 0 to 70\n",
      "Data columns (total 2 columns):\n",
      " #   Column                         Non-Null Count  Dtype \n",
      "---  ------                         --------------  ----- \n",
      " 0   product_category_name          71 non-null     string\n",
      " 1   product_category_name_english  71 non-null     string\n",
      "dtypes: string(2)\n",
      "memory usage: 1.2 KB\n"
     ]
    }
   ],
   "source": [
    "product_category_name[product_category_name.select_dtypes(include=\"object\").columns] = product_category_name.select_dtypes(include=\"object\").astype(\"string\")\n",
    "product_category_name.info()"
   ]
  },
  {
   "cell_type": "markdown",
   "metadata": {},
   "source": [
    "Sekarang semua tipe data sudah diperbaharui."
   ]
  },
  {
   "cell_type": "markdown",
   "metadata": {},
   "source": [
    "# Exploratory Data Analysis\n",
    "\n",
    "Proses eksplorasi data-data yang sudah dibersihkan dan diperbaiki"
   ]
  },
  {
   "cell_type": "markdown",
   "metadata": {},
   "source": [
    "## Eksplorasi Data Individual\n",
    "\n",
    "Proses eksplorasi setiap individual dataset"
   ]
  },
  {
   "cell_type": "markdown",
   "metadata": {},
   "source": [
    "### Orders"
   ]
  },
  {
   "cell_type": "code",
   "execution_count": 743,
   "metadata": {},
   "outputs": [
    {
     "name": "stdout",
     "output_type": "stream",
     "text": [
      "Bulan paling banyak order\n"
     ]
    },
    {
     "name": "stderr",
     "output_type": "stream",
     "text": [
      "/var/folders/wg/txvzpfts55z1xjmg1k3179_h0000gn/T/ipykernel_35265/3671990854.py:1: SettingWithCopyWarning: \n",
      "A value is trying to be set on a copy of a slice from a DataFrame.\n",
      "Try using .loc[row_indexer,col_indexer] = value instead\n",
      "\n",
      "See the caveats in the documentation: https://pandas.pydata.org/pandas-docs/stable/user_guide/indexing.html#returning-a-view-versus-a-copy\n",
      "  orders[\"year_month\"] = orders[\"order_delivered_customer_date\"].dt.to_period(\"M\")\n"
     ]
    },
    {
     "data": {
      "text/html": [
       "<div>\n",
       "<style scoped>\n",
       "    .dataframe tbody tr th:only-of-type {\n",
       "        vertical-align: middle;\n",
       "    }\n",
       "\n",
       "    .dataframe tbody tr th {\n",
       "        vertical-align: top;\n",
       "    }\n",
       "\n",
       "    .dataframe thead th {\n",
       "        text-align: right;\n",
       "    }\n",
       "</style>\n",
       "<table border=\"1\" class=\"dataframe\">\n",
       "  <thead>\n",
       "    <tr style=\"text-align: right;\">\n",
       "      <th></th>\n",
       "      <th>year_month</th>\n",
       "      <th>order_count</th>\n",
       "    </tr>\n",
       "  </thead>\n",
       "  <tbody>\n",
       "    <tr>\n",
       "      <th>22</th>\n",
       "      <td>2018-08</td>\n",
       "      <td>8314</td>\n",
       "    </tr>\n",
       "    <tr>\n",
       "      <th>18</th>\n",
       "      <td>2018-04</td>\n",
       "      <td>7850</td>\n",
       "    </tr>\n",
       "    <tr>\n",
       "      <th>14</th>\n",
       "      <td>2017-12</td>\n",
       "      <td>7205</td>\n",
       "    </tr>\n",
       "    <tr>\n",
       "      <th>19</th>\n",
       "      <td>2018-05</td>\n",
       "      <td>7111</td>\n",
       "    </tr>\n",
       "    <tr>\n",
       "      <th>20</th>\n",
       "      <td>2018-06</td>\n",
       "      <td>6829</td>\n",
       "    </tr>\n",
       "  </tbody>\n",
       "</table>\n",
       "</div>"
      ],
      "text/plain": [
       "   year_month  order_count\n",
       "22    2018-08         8314\n",
       "18    2018-04         7850\n",
       "14    2017-12         7205\n",
       "19    2018-05         7111\n",
       "20    2018-06         6829"
      ]
     },
     "execution_count": 743,
     "metadata": {},
     "output_type": "execute_result"
    }
   ],
   "source": [
    "orders[\"year_month\"] = orders[\"order_delivered_customer_date\"].dt.to_period(\"M\")\n",
    "order_counts = orders[\"year_month\"].value_counts().sort_index()\n",
    "\n",
    "resultOrder = orders.groupby(\"year_month\").agg(\n",
    "    order_count=(\"order_id\", \"count\"),\n",
    ").reset_index()\n",
    "\n",
    "print(\"Bulan paling banyak order\")\n",
    "resultOrder.sort_values(by=\"order_count\", ascending=False).head()"
   ]
  },
  {
   "cell_type": "markdown",
   "metadata": {},
   "source": [
    "Ini proses menghitung total order berdasarkan setiap bulan. Ternyata bulan Agustus 2018 dan April 2018 memiliki jumlah pesanan terbanyak."
   ]
  },
  {
   "cell_type": "markdown",
   "metadata": {},
   "source": [
    "### Order Payments"
   ]
  },
  {
   "cell_type": "code",
   "execution_count": 744,
   "metadata": {},
   "outputs": [
    {
     "data": {
      "text/html": [
       "<div>\n",
       "<style scoped>\n",
       "    .dataframe tbody tr th:only-of-type {\n",
       "        vertical-align: middle;\n",
       "    }\n",
       "\n",
       "    .dataframe tbody tr th {\n",
       "        vertical-align: top;\n",
       "    }\n",
       "\n",
       "    .dataframe thead th {\n",
       "        text-align: right;\n",
       "    }\n",
       "</style>\n",
       "<table border=\"1\" class=\"dataframe\">\n",
       "  <thead>\n",
       "    <tr style=\"text-align: right;\">\n",
       "      <th></th>\n",
       "      <th>payment_type</th>\n",
       "      <th>total_amount</th>\n",
       "    </tr>\n",
       "  </thead>\n",
       "  <tbody>\n",
       "    <tr>\n",
       "      <th>1</th>\n",
       "      <td>credit_card</td>\n",
       "      <td>12542084.19</td>\n",
       "    </tr>\n",
       "    <tr>\n",
       "      <th>0</th>\n",
       "      <td>boleto</td>\n",
       "      <td>2869361.27</td>\n",
       "    </tr>\n",
       "    <tr>\n",
       "      <th>4</th>\n",
       "      <td>voucher</td>\n",
       "      <td>379436.87</td>\n",
       "    </tr>\n",
       "    <tr>\n",
       "      <th>2</th>\n",
       "      <td>debit_card</td>\n",
       "      <td>217989.79</td>\n",
       "    </tr>\n",
       "    <tr>\n",
       "      <th>3</th>\n",
       "      <td>not_defined</td>\n",
       "      <td>0.00</td>\n",
       "    </tr>\n",
       "  </tbody>\n",
       "</table>\n",
       "</div>"
      ],
      "text/plain": [
       "  payment_type  total_amount\n",
       "1  credit_card   12542084.19\n",
       "0       boleto    2869361.27\n",
       "4      voucher     379436.87\n",
       "2   debit_card     217989.79\n",
       "3  not_defined          0.00"
      ]
     },
     "execution_count": 744,
     "metadata": {},
     "output_type": "execute_result"
    }
   ],
   "source": [
    "resultTotalAmout = order_payments.groupby(\"payment_type\").agg(\n",
    "\ttotal_amount=(\"payment_value\", \"sum\")\n",
    ").reset_index()\n",
    "\n",
    "resultTotalAmout.sort_values(by=\"total_amount\", ascending=False).head()"
   ]
  },
  {
   "cell_type": "markdown",
   "metadata": {},
   "source": [
    "Ini proses menghitung total revenue berdasarkan tipe pembayaran. Dilihat ternyata banyak orang yang membeli menggunakan kartu kredit."
   ]
  },
  {
   "cell_type": "markdown",
   "metadata": {},
   "source": [
    "### Order Item"
   ]
  },
  {
   "cell_type": "code",
   "execution_count": 745,
   "metadata": {},
   "outputs": [
    {
     "data": {
      "text/html": [
       "<div>\n",
       "<style scoped>\n",
       "    .dataframe tbody tr th:only-of-type {\n",
       "        vertical-align: middle;\n",
       "    }\n",
       "\n",
       "    .dataframe tbody tr th {\n",
       "        vertical-align: top;\n",
       "    }\n",
       "\n",
       "    .dataframe thead th {\n",
       "        text-align: right;\n",
       "    }\n",
       "</style>\n",
       "<table border=\"1\" class=\"dataframe\">\n",
       "  <thead>\n",
       "    <tr style=\"text-align: right;\">\n",
       "      <th></th>\n",
       "      <th>seller_id</th>\n",
       "      <th>total_amount</th>\n",
       "    </tr>\n",
       "  </thead>\n",
       "  <tbody>\n",
       "    <tr>\n",
       "      <th>857</th>\n",
       "      <td>4869f7a5dfa277a7dca6462dcf3b52b2</td>\n",
       "      <td>229472.63</td>\n",
       "    </tr>\n",
       "    <tr>\n",
       "      <th>1013</th>\n",
       "      <td>53243585a1d6dc2643021fd1853d8905</td>\n",
       "      <td>222776.05</td>\n",
       "    </tr>\n",
       "    <tr>\n",
       "      <th>881</th>\n",
       "      <td>4a3ca9315b744ce9f8e9374361493884</td>\n",
       "      <td>200472.92</td>\n",
       "    </tr>\n",
       "    <tr>\n",
       "      <th>3024</th>\n",
       "      <td>fa1c13f2614d7b5c4749cbc52fecda94</td>\n",
       "      <td>194042.03</td>\n",
       "    </tr>\n",
       "    <tr>\n",
       "      <th>1535</th>\n",
       "      <td>7c67e1448b00f6e969d365cea6b010ab</td>\n",
       "      <td>187923.89</td>\n",
       "    </tr>\n",
       "  </tbody>\n",
       "</table>\n",
       "</div>"
      ],
      "text/plain": [
       "                             seller_id  total_amount\n",
       "857   4869f7a5dfa277a7dca6462dcf3b52b2     229472.63\n",
       "1013  53243585a1d6dc2643021fd1853d8905     222776.05\n",
       "881   4a3ca9315b744ce9f8e9374361493884     200472.92\n",
       "3024  fa1c13f2614d7b5c4749cbc52fecda94     194042.03\n",
       "1535  7c67e1448b00f6e969d365cea6b010ab     187923.89"
      ]
     },
     "execution_count": 745,
     "metadata": {},
     "output_type": "execute_result"
    }
   ],
   "source": [
    "topSeller = order_items.groupby('seller_id').agg(\n",
    "\ttotal_amount=(\"price\", \"sum\"),\n",
    ").reset_index()\n",
    "\n",
    "topSeller.sort_values(by=\"total_amount\", ascending=False).head()"
   ]
  },
  {
   "cell_type": "markdown",
   "metadata": {},
   "source": [
    "Ini proses pencarian penjual yang menghasilkan banyak penghasilan. `seller_id` 4869f7a5dfa277a7dca6462dcf3b52b2 menghasilkan 229472.63."
   ]
  },
  {
   "cell_type": "markdown",
   "metadata": {},
   "source": [
    "### Customer"
   ]
  },
  {
   "cell_type": "code",
   "execution_count": 746,
   "metadata": {},
   "outputs": [
    {
     "data": {
      "text/html": [
       "<div>\n",
       "<style scoped>\n",
       "    .dataframe tbody tr th:only-of-type {\n",
       "        vertical-align: middle;\n",
       "    }\n",
       "\n",
       "    .dataframe tbody tr th {\n",
       "        vertical-align: top;\n",
       "    }\n",
       "\n",
       "    .dataframe thead th {\n",
       "        text-align: right;\n",
       "    }\n",
       "</style>\n",
       "<table border=\"1\" class=\"dataframe\">\n",
       "  <thead>\n",
       "    <tr style=\"text-align: right;\">\n",
       "      <th></th>\n",
       "      <th>customer_city</th>\n",
       "      <th>total</th>\n",
       "    </tr>\n",
       "  </thead>\n",
       "  <tbody>\n",
       "    <tr>\n",
       "      <th>3597</th>\n",
       "      <td>sao paulo</td>\n",
       "      <td>15540</td>\n",
       "    </tr>\n",
       "    <tr>\n",
       "      <th>3155</th>\n",
       "      <td>rio de janeiro</td>\n",
       "      <td>6882</td>\n",
       "    </tr>\n",
       "    <tr>\n",
       "      <th>453</th>\n",
       "      <td>belo horizonte</td>\n",
       "      <td>2773</td>\n",
       "    </tr>\n",
       "    <tr>\n",
       "      <th>558</th>\n",
       "      <td>brasilia</td>\n",
       "      <td>2131</td>\n",
       "    </tr>\n",
       "    <tr>\n",
       "      <th>1143</th>\n",
       "      <td>curitiba</td>\n",
       "      <td>1521</td>\n",
       "    </tr>\n",
       "  </tbody>\n",
       "</table>\n",
       "</div>"
      ],
      "text/plain": [
       "       customer_city  total\n",
       "3597       sao paulo  15540\n",
       "3155  rio de janeiro   6882\n",
       "453   belo horizonte   2773\n",
       "558         brasilia   2131\n",
       "1143        curitiba   1521"
      ]
     },
     "execution_count": 746,
     "metadata": {},
     "output_type": "execute_result"
    }
   ],
   "source": [
    "mostCityCustomer = customers.groupby('customer_city').agg(\n",
    "\ttotal=(\"customer_unique_id\", \"count\"),\n",
    ").reset_index()\n",
    "\n",
    "mostCityCustomer.sort_values(by=\"total\", ascending=False).head()"
   ]
  },
  {
   "cell_type": "markdown",
   "metadata": {},
   "source": [
    "Ini proses pencarian kota yang memiliki pelanggan terbanyak. Kota Sao Paulo\tmemiliki pelanggan 15540."
   ]
  },
  {
   "cell_type": "code",
   "execution_count": 747,
   "metadata": {},
   "outputs": [
    {
     "data": {
      "text/html": [
       "<div>\n",
       "<style scoped>\n",
       "    .dataframe tbody tr th:only-of-type {\n",
       "        vertical-align: middle;\n",
       "    }\n",
       "\n",
       "    .dataframe tbody tr th {\n",
       "        vertical-align: top;\n",
       "    }\n",
       "\n",
       "    .dataframe thead th {\n",
       "        text-align: right;\n",
       "    }\n",
       "</style>\n",
       "<table border=\"1\" class=\"dataframe\">\n",
       "  <thead>\n",
       "    <tr style=\"text-align: right;\">\n",
       "      <th></th>\n",
       "      <th>customer_state</th>\n",
       "      <th>total</th>\n",
       "    </tr>\n",
       "  </thead>\n",
       "  <tbody>\n",
       "    <tr>\n",
       "      <th>25</th>\n",
       "      <td>SP</td>\n",
       "      <td>41746</td>\n",
       "    </tr>\n",
       "    <tr>\n",
       "      <th>18</th>\n",
       "      <td>RJ</td>\n",
       "      <td>12852</td>\n",
       "    </tr>\n",
       "    <tr>\n",
       "      <th>10</th>\n",
       "      <td>MG</td>\n",
       "      <td>11635</td>\n",
       "    </tr>\n",
       "    <tr>\n",
       "      <th>22</th>\n",
       "      <td>RS</td>\n",
       "      <td>5466</td>\n",
       "    </tr>\n",
       "    <tr>\n",
       "      <th>17</th>\n",
       "      <td>PR</td>\n",
       "      <td>5045</td>\n",
       "    </tr>\n",
       "  </tbody>\n",
       "</table>\n",
       "</div>"
      ],
      "text/plain": [
       "   customer_state  total\n",
       "25             SP  41746\n",
       "18             RJ  12852\n",
       "10             MG  11635\n",
       "22             RS   5466\n",
       "17             PR   5045"
      ]
     },
     "execution_count": 747,
     "metadata": {},
     "output_type": "execute_result"
    }
   ],
   "source": [
    "mostStateCustomer = customers.groupby('customer_state').agg(\n",
    "\ttotal=(\"customer_unique_id\", \"count\"),\n",
    ").reset_index()\n",
    "\n",
    "mostStateCustomer.sort_values(by=\"total\", ascending=False).head()"
   ]
  },
  {
   "cell_type": "markdown",
   "metadata": {},
   "source": [
    "Ini proses pencarian negara yang memiliki pelanggan terbanyak. SP (San Paulo)\tmemiliki pelanggan 41746.\n",
    "\n",
    "Penasaran kenapa angkanya berbeda (?)"
   ]
  },
  {
   "cell_type": "markdown",
   "metadata": {},
   "source": [
    "### Product"
   ]
  },
  {
   "cell_type": "code",
   "execution_count": 748,
   "metadata": {},
   "outputs": [
    {
     "data": {
      "text/html": [
       "<div>\n",
       "<style scoped>\n",
       "    .dataframe tbody tr th:only-of-type {\n",
       "        vertical-align: middle;\n",
       "    }\n",
       "\n",
       "    .dataframe tbody tr th {\n",
       "        vertical-align: top;\n",
       "    }\n",
       "\n",
       "    .dataframe thead th {\n",
       "        text-align: right;\n",
       "    }\n",
       "</style>\n",
       "<table border=\"1\" class=\"dataframe\">\n",
       "  <thead>\n",
       "    <tr style=\"text-align: right;\">\n",
       "      <th></th>\n",
       "      <th>product_category_name_english</th>\n",
       "      <th>total</th>\n",
       "    </tr>\n",
       "  </thead>\n",
       "  <tbody>\n",
       "    <tr>\n",
       "      <th>13</th>\n",
       "      <td>bed_bath_table</td>\n",
       "      <td>3029</td>\n",
       "    </tr>\n",
       "    <tr>\n",
       "      <th>32</th>\n",
       "      <td>sports_leisure</td>\n",
       "      <td>2867</td>\n",
       "    </tr>\n",
       "    <tr>\n",
       "      <th>54</th>\n",
       "      <td>furniture_decor</td>\n",
       "      <td>2657</td>\n",
       "    </tr>\n",
       "    <tr>\n",
       "      <th>11</th>\n",
       "      <td>health_beauty</td>\n",
       "      <td>2444</td>\n",
       "    </tr>\n",
       "    <tr>\n",
       "      <th>72</th>\n",
       "      <td>housewares</td>\n",
       "      <td>2335</td>\n",
       "    </tr>\n",
       "  </tbody>\n",
       "</table>\n",
       "</div>"
      ],
      "text/plain": [
       "   product_category_name_english  total\n",
       "13                bed_bath_table   3029\n",
       "32                sports_leisure   2867\n",
       "54               furniture_decor   2657\n",
       "11                 health_beauty   2444\n",
       "72                    housewares   2335"
      ]
     },
     "execution_count": 748,
     "metadata": {},
     "output_type": "execute_result"
    }
   ],
   "source": [
    "mostCategories = products.groupby('product_category_name').agg(\n",
    "\ttotal=(\"product_id\", \"count\"),\n",
    ").reset_index()\n",
    "\n",
    "translatedCategories = pd.merge(mostCategories, product_category_name, how='left', on='product_category_name')\n",
    "\n",
    "translatedCategories = translatedCategories[[\"product_category_name_english\", \"total\"]]\n",
    "translatedCategories.sort_values(by=\"total\", ascending=False).head()"
   ]
  },
  {
   "cell_type": "markdown",
   "metadata": {},
   "source": [
    "Ini proses kategori paling banyak pesanan secara total. kasur, kamar mandi, dan meja paling banyak pesanannya."
   ]
  },
  {
   "cell_type": "markdown",
   "metadata": {},
   "source": [
    "### Kesimpulan\n",
    "\n",
    "Berikut beberapa kesimpulan:\n",
    "- Bulan Agustus 2018 dan April 2018 memiliki jumlah pesanan terbanyak.\n",
    "- Banyak orang yang membeli menggunakan kartu kredit.\n",
    "- Maksimal penghasilan yang di dapatkan oleh penjual yaitu 229472.63.\n",
    "- Secara perhitungan kota, Sao Paulo memiliki pelanggan 15540.\n",
    "- Secara perhitungan daerah, SP (San Paulo)\tmemiliki pelanggan 41746.\n",
    "- Kategori kasur, kamar mandi, dan meja paling banyak pesanannya."
   ]
  },
  {
   "cell_type": "markdown",
   "metadata": {},
   "source": [
    "## Explorasi berdasarkan pertanyaan\n",
    "\n",
    "Proses eksplorasi berdasarkan pertanyaan"
   ]
  },
  {
   "cell_type": "markdown",
   "metadata": {},
   "source": [
    "### Pertanyaan 1: Dalam 5 tahun terakhir, Apa saja kategori produk yang memberikan penghasilan terbanyak?"
   ]
  },
  {
   "cell_type": "code",
   "execution_count": 749,
   "metadata": {},
   "outputs": [
    {
     "data": {
      "text/html": [
       "<div>\n",
       "<style scoped>\n",
       "    .dataframe tbody tr th:only-of-type {\n",
       "        vertical-align: middle;\n",
       "    }\n",
       "\n",
       "    .dataframe tbody tr th {\n",
       "        vertical-align: top;\n",
       "    }\n",
       "\n",
       "    .dataframe thead th {\n",
       "        text-align: right;\n",
       "    }\n",
       "</style>\n",
       "<table border=\"1\" class=\"dataframe\">\n",
       "  <thead>\n",
       "    <tr style=\"text-align: right;\">\n",
       "      <th></th>\n",
       "      <th>year</th>\n",
       "      <th>product_category_name_english</th>\n",
       "      <th>count_orders</th>\n",
       "      <th>total_revenue</th>\n",
       "    </tr>\n",
       "  </thead>\n",
       "  <tbody>\n",
       "    <tr>\n",
       "      <th>10</th>\n",
       "      <td>2018</td>\n",
       "      <td>health_beauty</td>\n",
       "      <td>6176</td>\n",
       "      <td>1036625.99</td>\n",
       "    </tr>\n",
       "    <tr>\n",
       "      <th>11</th>\n",
       "      <td>2018</td>\n",
       "      <td>bed_bath_table</td>\n",
       "      <td>6427</td>\n",
       "      <td>953357.69</td>\n",
       "    </tr>\n",
       "    <tr>\n",
       "      <th>12</th>\n",
       "      <td>2018</td>\n",
       "      <td>computers_accessories</td>\n",
       "      <td>4899</td>\n",
       "      <td>903002.89</td>\n",
       "    </tr>\n",
       "    <tr>\n",
       "      <th>13</th>\n",
       "      <td>2018</td>\n",
       "      <td>watches_gifts</td>\n",
       "      <td>3905</td>\n",
       "      <td>863574.69</td>\n",
       "    </tr>\n",
       "    <tr>\n",
       "      <th>14</th>\n",
       "      <td>2018</td>\n",
       "      <td>furniture_decor</td>\n",
       "      <td>4413</td>\n",
       "      <td>765511.76</td>\n",
       "    </tr>\n",
       "    <tr>\n",
       "      <th>5</th>\n",
       "      <td>2017</td>\n",
       "      <td>bed_bath_table</td>\n",
       "      <td>5214</td>\n",
       "      <td>736907.69</td>\n",
       "    </tr>\n",
       "    <tr>\n",
       "      <th>6</th>\n",
       "      <td>2017</td>\n",
       "      <td>computers_accessories</td>\n",
       "      <td>2983</td>\n",
       "      <td>645387.74</td>\n",
       "    </tr>\n",
       "    <tr>\n",
       "      <th>7</th>\n",
       "      <td>2017</td>\n",
       "      <td>furniture_decor</td>\n",
       "      <td>4067</td>\n",
       "      <td>617760.67</td>\n",
       "    </tr>\n",
       "    <tr>\n",
       "      <th>8</th>\n",
       "      <td>2017</td>\n",
       "      <td>sports_leisure</td>\n",
       "      <td>3948</td>\n",
       "      <td>587751.28</td>\n",
       "    </tr>\n",
       "    <tr>\n",
       "      <th>9</th>\n",
       "      <td>2017</td>\n",
       "      <td>health_beauty</td>\n",
       "      <td>3541</td>\n",
       "      <td>579363.36</td>\n",
       "    </tr>\n",
       "    <tr>\n",
       "      <th>0</th>\n",
       "      <td>2016</td>\n",
       "      <td>furniture_decor</td>\n",
       "      <td>73</td>\n",
       "      <td>10699.61</td>\n",
       "    </tr>\n",
       "    <tr>\n",
       "      <th>1</th>\n",
       "      <td>2016</td>\n",
       "      <td>perfumery</td>\n",
       "      <td>32</td>\n",
       "      <td>6213.36</td>\n",
       "    </tr>\n",
       "    <tr>\n",
       "      <th>2</th>\n",
       "      <td>2016</td>\n",
       "      <td>toys</td>\n",
       "      <td>24</td>\n",
       "      <td>5276.19</td>\n",
       "    </tr>\n",
       "    <tr>\n",
       "      <th>3</th>\n",
       "      <td>2016</td>\n",
       "      <td>health_beauty</td>\n",
       "      <td>45</td>\n",
       "      <td>4694.69</td>\n",
       "    </tr>\n",
       "    <tr>\n",
       "      <th>4</th>\n",
       "      <td>2016</td>\n",
       "      <td>market_place</td>\n",
       "      <td>11</td>\n",
       "      <td>4518.64</td>\n",
       "    </tr>\n",
       "  </tbody>\n",
       "</table>\n",
       "</div>"
      ],
      "text/plain": [
       "    year product_category_name_english  count_orders  total_revenue\n",
       "10  2018                 health_beauty          6176     1036625.99\n",
       "11  2018                bed_bath_table          6427      953357.69\n",
       "12  2018         computers_accessories          4899      903002.89\n",
       "13  2018                 watches_gifts          3905      863574.69\n",
       "14  2018               furniture_decor          4413      765511.76\n",
       "5   2017                bed_bath_table          5214      736907.69\n",
       "6   2017         computers_accessories          2983      645387.74\n",
       "7   2017               furniture_decor          4067      617760.67\n",
       "8   2017                sports_leisure          3948      587751.28\n",
       "9   2017                 health_beauty          3541      579363.36\n",
       "0   2016               furniture_decor            73       10699.61\n",
       "1   2016                     perfumery            32        6213.36\n",
       "2   2016                          toys            24        5276.19\n",
       "3   2016                 health_beauty            45        4694.69\n",
       "4   2016                  market_place            11        4518.64"
      ]
     },
     "execution_count": 749,
     "metadata": {},
     "output_type": "execute_result"
    }
   ],
   "source": [
    "merged_df_first = pd.merge(orders, order_payments, how=\"left\", on=\"order_id\")\n",
    "merged_df_first = pd.merge(merged_df_first, order_items, how=\"left\", on=\"order_id\")\n",
    "merged_df_first = pd.merge(merged_df_first, products, how=\"left\", on=\"product_id\")\n",
    "merged_df_first = pd.merge(merged_df_first, product_category_name, how=\"left\", on=\"product_category_name\")\n",
    "merged_df_first[\"year\"] = merged_df_first['order_delivered_customer_date'].dt.year\n",
    "\n",
    "mostCategoriesRevenue = merged_df_first.groupby([\"year\", 'product_category_name_english']).agg(\n",
    "\tcount_orders=(\"order_id\", \"count\"),\n",
    "\ttotal_revenue=(\"payment_value\", \"sum\")\n",
    ").reset_index().sort_values(by=[\"year\", \"total_revenue\"], ascending=[True, False])\n",
    "\n",
    "top_5_per_year = mostCategoriesRevenue.groupby(\"year\").head(5)\n",
    "top_5_per_year = top_5_per_year.reset_index(drop=True)\n",
    "\n",
    "top_5_per_year.sort_values(by=\"year\", ascending=False)"
   ]
  },
  {
   "cell_type": "markdown",
   "metadata": {},
   "source": [
    "Ternyata tahun paling terakhir yaitu 2016 dan paling terbaru itu 2018. Di setiap tahun ada perbedaan kategori yang paling laris.\n",
    "\n",
    "- Tahun 2018 paling laku itu `health_beauty`\n",
    "- Tahun 2017 paling laku itu `bed_bath_table`\n",
    "- Tahun 2016 paling laku itu `perfumery`"
   ]
  },
  {
   "cell_type": "markdown",
   "metadata": {},
   "source": [
    "### Pertanyaan 2: Kota mana aja yang memiliki pesanan terbanyak dan jumlah pengguna terbanyak?"
   ]
  },
  {
   "cell_type": "code",
   "execution_count": 750,
   "metadata": {},
   "outputs": [
    {
     "data": {
      "text/html": [
       "<div>\n",
       "<style scoped>\n",
       "    .dataframe tbody tr th:only-of-type {\n",
       "        vertical-align: middle;\n",
       "    }\n",
       "\n",
       "    .dataframe tbody tr th {\n",
       "        vertical-align: top;\n",
       "    }\n",
       "\n",
       "    .dataframe thead th {\n",
       "        text-align: right;\n",
       "    }\n",
       "</style>\n",
       "<table border=\"1\" class=\"dataframe\">\n",
       "  <thead>\n",
       "    <tr style=\"text-align: right;\">\n",
       "      <th></th>\n",
       "      <th>customer_city</th>\n",
       "      <th>count_users</th>\n",
       "      <th>count_orders</th>\n",
       "      <th>total_revenue</th>\n",
       "    </tr>\n",
       "  </thead>\n",
       "  <tbody>\n",
       "    <tr>\n",
       "      <th>3597</th>\n",
       "      <td>sao paulo</td>\n",
       "      <td>16192</td>\n",
       "      <td>15695</td>\n",
       "      <td>2107933.27</td>\n",
       "    </tr>\n",
       "    <tr>\n",
       "      <th>3155</th>\n",
       "      <td>rio de janeiro</td>\n",
       "      <td>7198</td>\n",
       "      <td>6916</td>\n",
       "      <td>1111745.28</td>\n",
       "    </tr>\n",
       "    <tr>\n",
       "      <th>453</th>\n",
       "      <td>belo horizonte</td>\n",
       "      <td>2868</td>\n",
       "      <td>2792</td>\n",
       "      <td>406050.87</td>\n",
       "    </tr>\n",
       "    <tr>\n",
       "      <th>558</th>\n",
       "      <td>brasilia</td>\n",
       "      <td>2191</td>\n",
       "      <td>2131</td>\n",
       "      <td>345221.87</td>\n",
       "    </tr>\n",
       "    <tr>\n",
       "      <th>1143</th>\n",
       "      <td>curitiba</td>\n",
       "      <td>1576</td>\n",
       "      <td>1544</td>\n",
       "      <td>238582.26</td>\n",
       "    </tr>\n",
       "  </tbody>\n",
       "</table>\n",
       "</div>"
      ],
      "text/plain": [
       "       customer_city  count_users  count_orders  total_revenue\n",
       "3597       sao paulo        16192         15695     2107933.27\n",
       "3155  rio de janeiro         7198          6916     1111745.28\n",
       "453   belo horizonte         2868          2792      406050.87\n",
       "558         brasilia         2191          2131      345221.87\n",
       "1143        curitiba         1576          1544      238582.26"
      ]
     },
     "execution_count": 750,
     "metadata": {},
     "output_type": "execute_result"
    }
   ],
   "source": [
    "merged_df_second = pd.merge(customers, orders, how=\"left\", on=\"customer_id\")\n",
    "merged_df_second = pd.merge(merged_df_second, order_payments, how=\"left\", on=\"order_id\")\n",
    "\n",
    "mostCityRevenue = merged_df_second.groupby('customer_city').agg(\n",
    "\tcount_users=(\"customer_id\", \"count\"),\n",
    "\tcount_orders=(\"order_id\", \"count\"),\n",
    "\ttotal_revenue=(\"payment_value\", \"sum\")\n",
    ").reset_index()\n",
    "\n",
    "mostCityRevenue.sort_values(by=\"total_revenue\", ascending=False).head()"
   ]
  },
  {
   "cell_type": "markdown",
   "metadata": {},
   "source": [
    "Ternyata secara kasar 100-500 pelanggan yang tidak memesan pada setiap kota. Itu juga sebanding dengan total revenue, dilihat Sao Paulo dan Rio De Janeiro perbedaannya bisa dua kali lipat dengan revenue yang sama (dua kali lipat)."
   ]
  },
  {
   "cell_type": "code",
   "execution_count": 751,
   "metadata": {},
   "outputs": [
    {
     "data": {
      "text/html": [
       "<div>\n",
       "<style scoped>\n",
       "    .dataframe tbody tr th:only-of-type {\n",
       "        vertical-align: middle;\n",
       "    }\n",
       "\n",
       "    .dataframe tbody tr th {\n",
       "        vertical-align: top;\n",
       "    }\n",
       "\n",
       "    .dataframe thead th {\n",
       "        text-align: right;\n",
       "    }\n",
       "</style>\n",
       "<table border=\"1\" class=\"dataframe\">\n",
       "  <thead>\n",
       "    <tr style=\"text-align: right;\">\n",
       "      <th></th>\n",
       "      <th>customer_city</th>\n",
       "      <th>payment_type</th>\n",
       "      <th>count</th>\n",
       "    </tr>\n",
       "  </thead>\n",
       "  <tbody>\n",
       "    <tr>\n",
       "      <th>6446</th>\n",
       "      <td>sao paulo</td>\n",
       "      <td>credit_card</td>\n",
       "      <td>11848</td>\n",
       "    </tr>\n",
       "    <tr>\n",
       "      <th>5641</th>\n",
       "      <td>rio de janeiro</td>\n",
       "      <td>credit_card</td>\n",
       "      <td>5303</td>\n",
       "    </tr>\n",
       "    <tr>\n",
       "      <th>6445</th>\n",
       "      <td>sao paulo</td>\n",
       "      <td>boleto</td>\n",
       "      <td>2699</td>\n",
       "    </tr>\n",
       "    <tr>\n",
       "      <th>772</th>\n",
       "      <td>belo horizonte</td>\n",
       "      <td>credit_card</td>\n",
       "      <td>2176</td>\n",
       "    </tr>\n",
       "    <tr>\n",
       "      <th>959</th>\n",
       "      <td>brasilia</td>\n",
       "      <td>credit_card</td>\n",
       "      <td>1654</td>\n",
       "    </tr>\n",
       "  </tbody>\n",
       "</table>\n",
       "</div>"
      ],
      "text/plain": [
       "       customer_city payment_type  count\n",
       "6446       sao paulo  credit_card  11848\n",
       "5641  rio de janeiro  credit_card   5303\n",
       "6445       sao paulo       boleto   2699\n",
       "772   belo horizonte  credit_card   2176\n",
       "959         brasilia  credit_card   1654"
      ]
     },
     "execution_count": 751,
     "metadata": {},
     "output_type": "execute_result"
    }
   ],
   "source": [
    "mostCityPayment = merged_df_second.groupby(['customer_city', 'payment_type']).agg(\n",
    "\tcount=(\"order_id\", \"count\")\n",
    ").reset_index().sort_values(by=\"count\", ascending=False)\n",
    "\n",
    "mostCityPayment.head()"
   ]
  },
  {
   "cell_type": "markdown",
   "metadata": {},
   "source": [
    "Tambahan: Ternyata Sao Paulo perbedaan signifikat antara pengguna kartu kredit dan boleto. Wajar karena Sao Paulo adalah salah satu kota terbesar."
   ]
  },
  {
   "cell_type": "markdown",
   "metadata": {},
   "source": [
    "### Kesimpulan\n",
    "\n",
    "Berikut beberapa kesimpulan:\n",
    "- Ternyata tahun paling terakhir yaitu 2016 dan paling terbaru itu 2018. Di setiap tahun ada perbedaan kategori yang paling laris.\n",
    "- Ternyata secara kasar 100-500 pelanggan yang tidak memesan pada setiap kota. Itu juga sebanding dengan total revenue, dilihat Sao Paulo dan Rio De Janeiro perbedaannya bisa dua kali lipat dengan revenue yang sama (dua kali lipat).\n",
    "- Tambahan: Ternyata Sao Paulo perbedaan signifikat antara pengguna kartu kredit dan boleto. Wajar karena Sao Paulo adalah salah satu kota terbesar."
   ]
  },
  {
   "cell_type": "markdown",
   "metadata": {},
   "source": [
    "## RFM Analysis"
   ]
  },
  {
   "cell_type": "code",
   "execution_count": 752,
   "metadata": {},
   "outputs": [
    {
     "data": {
      "text/html": [
       "<div>\n",
       "<style scoped>\n",
       "    .dataframe tbody tr th:only-of-type {\n",
       "        vertical-align: middle;\n",
       "    }\n",
       "\n",
       "    .dataframe tbody tr th {\n",
       "        vertical-align: top;\n",
       "    }\n",
       "\n",
       "    .dataframe thead th {\n",
       "        text-align: right;\n",
       "    }\n",
       "</style>\n",
       "<table border=\"1\" class=\"dataframe\">\n",
       "  <thead>\n",
       "    <tr style=\"text-align: right;\">\n",
       "      <th></th>\n",
       "      <th>customer_id</th>\n",
       "      <th>frequency</th>\n",
       "      <th>monetary</th>\n",
       "      <th>recency</th>\n",
       "    </tr>\n",
       "  </thead>\n",
       "  <tbody>\n",
       "    <tr>\n",
       "      <th>0</th>\n",
       "      <td>00012a2ce6f8dcda20d059ce98491703</td>\n",
       "      <td>1</td>\n",
       "      <td>114.74</td>\n",
       "      <td>323</td>\n",
       "    </tr>\n",
       "    <tr>\n",
       "      <th>1</th>\n",
       "      <td>000161a058600d5901f007fab4c27140</td>\n",
       "      <td>1</td>\n",
       "      <td>67.41</td>\n",
       "      <td>449</td>\n",
       "    </tr>\n",
       "    <tr>\n",
       "      <th>2</th>\n",
       "      <td>0001fd6190edaaf884bcaf3d49edf079</td>\n",
       "      <td>1</td>\n",
       "      <td>195.42</td>\n",
       "      <td>590</td>\n",
       "    </tr>\n",
       "    <tr>\n",
       "      <th>3</th>\n",
       "      <td>0002414f95344307404f0ace7a26f1d5</td>\n",
       "      <td>1</td>\n",
       "      <td>179.35</td>\n",
       "      <td>399</td>\n",
       "    </tr>\n",
       "    <tr>\n",
       "      <th>4</th>\n",
       "      <td>000379cdec625522490c315e70c7a9fb</td>\n",
       "      <td>1</td>\n",
       "      <td>107.01</td>\n",
       "      <td>187</td>\n",
       "    </tr>\n",
       "  </tbody>\n",
       "</table>\n",
       "</div>"
      ],
      "text/plain": [
       "                        customer_id  frequency  monetary  recency\n",
       "0  00012a2ce6f8dcda20d059ce98491703          1    114.74      323\n",
       "1  000161a058600d5901f007fab4c27140          1     67.41      449\n",
       "2  0001fd6190edaaf884bcaf3d49edf079          1    195.42      590\n",
       "3  0002414f95344307404f0ace7a26f1d5          1    179.35      399\n",
       "4  000379cdec625522490c315e70c7a9fb          1    107.01      187"
      ]
     },
     "execution_count": 752,
     "metadata": {},
     "output_type": "execute_result"
    }
   ],
   "source": [
    "\n",
    "rfm_df = merged_df_first.groupby(by=\"customer_id\", as_index=False).agg(\n",
    "\tmax_order_timestamp=(\"order_delivered_customer_date\", \"max\"),\n",
    "\tfrequency=(\"order_id\", \"nunique\"),\n",
    "\tmonetary=(\"payment_value\", \"sum\"),\n",
    ")\n",
    "\n",
    "rfm_df[\"max_order_timestamp\"] = rfm_df[\"max_order_timestamp\"].dt.date\n",
    "recent_date = orders[\"order_delivered_customer_date\"].dt.date.max()\n",
    "rfm_df[\"recency\"] = rfm_df[\"max_order_timestamp\"].apply(lambda x: (recent_date - x).days)\n",
    " \n",
    "rfm_df.drop(\"max_order_timestamp\", axis=1, inplace=True)\n",
    "\n",
    "rfm_df.head()"
   ]
  },
  {
   "cell_type": "markdown",
   "metadata": {},
   "source": [
    "Ternyata kebanyakan pelanggan hanya membeli satu kali."
   ]
  },
  {
   "cell_type": "markdown",
   "metadata": {},
   "source": [
    "# Data Visualization"
   ]
  },
  {
   "cell_type": "markdown",
   "metadata": {},
   "source": [
    "### Orders"
   ]
  },
  {
   "cell_type": "code",
   "execution_count": 753,
   "metadata": {},
   "outputs": [
    {
     "data": {
      "image/png": "[encoded data removed]",
      "text/plain": [
       "<Figure size 1000x500 with 1 Axes>"
      ]
     },
     "metadata": {},
     "output_type": "display_data"
    }
   ],
   "source": [
    "resultOrder[\"year_month\"] = resultOrder[\"year_month\"].astype(str)\n",
    "resultOrder[\"order_count\"] = pd.to_numeric(resultOrder[\"order_count\"], errors=\"coerce\")  # Ensure numeric\n",
    "\n",
    "resultOrder = resultOrder.dropna(subset=[\"order_count\"])\n",
    "resultOrder = resultOrder.sort_values(by=\"year_month\")\n",
    "resultOrder = resultOrder.tail(15)\n",
    "\n",
    "plt.figure(figsize=(10, 5))\n",
    " \n",
    "sns.lineplot(\n",
    "    y=\"order_count\",\n",
    "    x=\"year_month\",\n",
    "\tmarker='o',\n",
    "\tlinewidth=2,\n",
    "    data=resultOrder\n",
    ")\n",
    "plt.title(\"Order Count by Year-Month (Maximal 15 Month)\")\n",
    "plt.xlabel(\"Year-Month\")\n",
    "plt.ylabel(\"Order Count\")\n",
    "plt.xticks(rotation=45)\n",
    "plt.show()\n"
   ]
  },
  {
   "cell_type": "markdown",
   "metadata": {},
   "source": [
    "Berikut adalah visual jumlah pemesanan setiap bulan. Dilihat ada penurunan signifikat pada bulan September 2018 dan Oktober 2018."
   ]
  },
  {
   "cell_type": "markdown",
   "metadata": {},
   "source": [
    "### Order Payments"
   ]
  },
  {
   "cell_type": "code",
   "execution_count": 754,
   "metadata": {},
   "outputs": [
    {
     "data": {
      "image/png": "[encoded data removed]",
      "text/plain": [
       "<Figure size 1000x500 with 1 Axes>"
      ]
     },
     "metadata": {},
     "output_type": "display_data"
    }
   ],
   "source": [
    "plt.figure(figsize=(10, 5))\n",
    "\n",
    "sns.barplot(\n",
    "    y=\"total_amount\",\n",
    "    x=\"payment_type\",\n",
    "    data=resultTotalAmout\n",
    ")\n",
    "plt.title(\"Most Used Payment Methods\")\n",
    "plt.xlabel(\"Payment Methods\")\n",
    "plt.ylabel(\"Revenue (in Millions)\")\n",
    "plt.xticks(rotation=45)\n",
    "plt.show()\n"
   ]
  },
  {
   "cell_type": "markdown",
   "metadata": {},
   "source": [
    "Berikut adalah visual pengguna metode pembayaran. Paling banyak kartu kredit"
   ]
  },
  {
   "cell_type": "markdown",
   "metadata": {},
   "source": [
    "### Order Items"
   ]
  },
  {
   "cell_type": "code",
   "execution_count": 755,
   "metadata": {},
   "outputs": [
    {
     "data": {
      "image/png": "[encoded data removed]",
      "text/plain": [
       "<Figure size 1000x500 with 1 Axes>"
      ]
     },
     "metadata": {},
     "output_type": "display_data"
    }
   ],
   "source": [
    "plt.figure(figsize=(10, 5))\n",
    "\n",
    "sns.barplot(\n",
    "    y=\"total_amount\",\n",
    "    x=\"seller_id\",\n",
    "    data=topSeller.sort_values(by=\"total_amount\", ascending=False).head(10)\n",
    ")\n",
    "plt.title(\"Most Rich Seller\")\n",
    "plt.xlabel(\"Seller ID\")\n",
    "plt.ylabel(\"Total Amount\")\n",
    "plt.xticks(rotation=90)\n",
    "plt.show()"
   ]
  },
  {
   "cell_type": "markdown",
   "metadata": {},
   "source": [
    "Berikut adalah visual penghasilan setiap seller diurutkan paling banyak."
   ]
  },
  {
   "cell_type": "markdown",
   "metadata": {},
   "source": [
    "### Customer"
   ]
  },
  {
   "cell_type": "code",
   "execution_count": 756,
   "metadata": {},
   "outputs": [
    {
     "data": {
      "image/png": "[encoded data removed]",
      "text/plain": [
       "<Figure size 1000x500 with 1 Axes>"
      ]
     },
     "metadata": {},
     "output_type": "display_data"
    }
   ],
   "source": [
    "plt.figure(figsize=(10, 5))\n",
    "\n",
    "sns.barplot(\n",
    "    y=\"total\",\n",
    "    x=\"customer_city\",\n",
    "    data=mostCityCustomer.sort_values(by=\"total\", ascending=False).head(10)\n",
    ")\n",
    "plt.title(\"Register Account by City\")\n",
    "plt.xlabel(\"City Name\")\n",
    "plt.ylabel(\"Total Customer\")\n",
    "plt.xticks(rotation=45)\n",
    "plt.show()"
   ]
  },
  {
   "cell_type": "markdown",
   "metadata": {},
   "source": [
    "Berikut adalah visual perbandingan kota paling banyak pelanggan."
   ]
  },
  {
   "cell_type": "markdown",
   "metadata": {},
   "source": [
    "### Products"
   ]
  },
  {
   "cell_type": "code",
   "execution_count": 757,
   "metadata": {},
   "outputs": [
    {
     "data": {
      "image/png": "[encoded data removed]",
      "text/plain": [
       "<Figure size 1000x500 with 1 Axes>"
      ]
     },
     "metadata": {},
     "output_type": "display_data"
    }
   ],
   "source": [
    "plt.figure(figsize=(10, 5))\n",
    "\n",
    "sns.barplot(\n",
    "    y=\"total\",\n",
    "    x=\"product_category_name_english\",\n",
    "    data=translatedCategories.sort_values(by=\"total\", ascending=False).head(10)\n",
    ")\n",
    "plt.title(\"Total Products by Category\")\n",
    "plt.xlabel(\"Categories\")\n",
    "plt.ylabel(\"Total Product\")\n",
    "plt.xticks(rotation=90)\n",
    "plt.show()"
   ]
  },
  {
   "cell_type": "markdown",
   "metadata": {},
   "source": [
    "Berikut adalah visual kategori yang paling banyak pesanan."
   ]
  },
  {
   "cell_type": "markdown",
   "metadata": {},
   "source": [
    "### Pertanyaan 1: Dalam 5 tahun terakhir, Apa saja kategori produk yang memberikan penghasilan terbanyak?"
   ]
  },
  {
   "cell_type": "code",
   "execution_count": 758,
   "metadata": {},
   "outputs": [
    {
     "data": {
      "image/png": "[encoded data removed]",
      "text/plain": [
       "<Figure size 1000x500 with 1 Axes>"
      ]
     },
     "metadata": {},
     "output_type": "display_data"
    }
   ],
   "source": [
    "plt.figure(figsize=(10, 5))\n",
    "\n",
    "chart_1 = sns.barplot(\n",
    "    y=\"total_revenue\",\n",
    "    x=\"year\",\n",
    "\t\thue=\"product_category_name_english\",\n",
    "    data=top_5_per_year\n",
    ")\n",
    "\n",
    "sns.move_legend(chart_1, \"upper left\", bbox_to_anchor=(1, 1))\n",
    "\n",
    "plt.title(\"Revenue Category by Year\")\n",
    "plt.xlabel(\"Year\")\n",
    "plt.ylabel(\"Total Revenue (in millions)\")\n",
    "plt.show()"
   ]
  },
  {
   "cell_type": "markdown",
   "metadata": {},
   "source": [
    "Berikut adalah visual revenue setiap tahun dan dibagi berdasarkan kategori. Setiap tahun ada peningkatan revenue"
   ]
  },
  {
   "cell_type": "markdown",
   "metadata": {},
   "source": [
    "### Pertanyaan 2: Kota mana aja yang memiliki pesanan terbanyak dan jumlah pengguna terbanyak?"
   ]
  },
  {
   "cell_type": "code",
   "execution_count": 759,
   "metadata": {},
   "outputs": [
    {
     "name": "stderr",
     "output_type": "stream",
     "text": [
      "/var/folders/wg/txvzpfts55z1xjmg1k3179_h0000gn/T/ipykernel_35265/1852265265.py:15: UserWarning: No artists with labels found to put in legend.  Note that artists whose label start with an underscore are ignored when legend() is called with no argument.\n",
      "  ax.legend(title=\"Orders\", bbox_to_anchor=(1.05, 1), loc=\"upper left\")\n"
     ]
    },
    {
     "data": {
      "image/png": "[encoded data removed]",
      "text/plain": [
       "<Figure size 1200x600 with 2 Axes>"
      ]
     },
     "metadata": {},
     "output_type": "display_data"
    }
   ],
   "source": [
    "fig, ax = plt.subplots(figsize=(12, 6))\n",
    "\n",
    "limit_ten = mostCityRevenue.sort_values(by=\"count_orders\", ascending=False).head(10)\n",
    "\n",
    "sns.barplot(\n",
    "    y=\"count_orders\",\n",
    "    x=\"customer_city\",\n",
    "\tax=ax,\n",
    "    data=limit_ten,\n",
    "\tcolor=\"#ffff0f\"\n",
    ")\n",
    "\n",
    "ax.set_ylabel(\"Orders\", fontsize=12)\n",
    "ax.set_title(\"Top 5 City Orders and Users\", fontsize=16)\n",
    "ax.legend(title=\"Orders\", bbox_to_anchor=(1.05, 1), loc=\"upper left\")\n",
    "\n",
    "ax2 = ax.twinx()\n",
    "ax2.plot(\n",
    "    limit_ten[\"customer_city\"], \n",
    "    limit_ten[\"count_users\"], \n",
    "    color=\"red\", \n",
    "    marker=\"o\", \n",
    "    label=\"Users\"\n",
    ")\n",
    "\n",
    "ax2.set_ylabel(\"Users\", fontsize=12)\n",
    "ax2.legend(loc=\"upper left\", bbox_to_anchor=(1.05, 0.9))\n",
    "\n",
    "ax.set_xlabel(\"City Name\", fontsize=12)\n",
    "\n",
    "plt.tight_layout()\n",
    "plt.show()"
   ]
  },
  {
   "cell_type": "markdown",
   "metadata": {},
   "source": [
    "Berikut adalah visual perbandingan pengguna dan pesanan setiap kota. Dilihat tidak ada perbedaan signifikat antara pengguna dan pesanan."
   ]
  },
  {
   "cell_type": "markdown",
   "metadata": {},
   "source": [
    "# Kesimpulan\n",
    "\n",
    "Berikut beberapa kesimpulan dari hasil eksplorasi data:\n",
    "\n",
    "- Setiap tahun ada peningkatan revenue, tetapi jika ditelusuri setiap bulan, ada penurunan pada bulan September 2018 dan Oktober 2018.\n",
    "- Secara keseluruhan tidak ada perbedaan besar dengan jumlah pelanggan dan jumlah pesanan. Bearti tidak ada pelanggan yang hanya mendaftar tanpa ada pembelian produk.\n",
    "- Secara keseluruhan kategori yang paling laku itu kasur, kamar mandi, dan meja.\n",
    "- Pelanggan lebih suka menggunakan kartu kredit."
   ]
  },
  {
   "cell_type": "markdown",
   "metadata": {},
   "source": [
    "#### Tambahan\n",
    "\n",
    "Ekspor data ke CSV buat dashboard"
   ]
  },
  {
   "cell_type": "code",
   "execution_count": 763,
   "metadata": {},
   "outputs": [],
   "source": [
    "all_df = pd.merge(merged_df_first, customers, how=\"left\", on=\"customer_id\")\n",
    "all_df.to_csv(\"./dashboard/all_dataframe.csv\", index=False)\n",
    "\n",
    "# mostCategoriesRevenue.to_csv(\"./dashboard/revenue_categories_by_year.csv\", index=False)\n",
    "# mostCityRevenue.to_csv(\"./dashboard/total_users_and_orders_by_city.csv\", index=False)"
   ]
  }
 ],
 "metadata": {
  "kernelspec": {
   "display_name": "data-science",
   "language": "python",
   "name": "python3"
  },
  "language_info": {
   "codemirror_mode": {
    "name": "ipython",
    "version": 3
   },
   "file_extension": ".py",
   "mimetype": "text/x-python",
   "name": "python",
   "nbconvert_exporter": "python",
   "pygments_lexer": "ipython3",
   "version": "3.9.20"
  }
 },
 "nbformat": 4,
 "nbformat_minor": 2
}
